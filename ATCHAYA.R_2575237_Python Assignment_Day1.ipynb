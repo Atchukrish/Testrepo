{
 "cells": [
  {
   "cell_type": "markdown",
   "id": "01687b2e",
   "metadata": {},
   "source": [
    "# 1.Manipulate using a list\n",
    "*To add new elements to the end of the list\n",
    "*To reverse elements in the list\n",
    "*To display the same list of elements multiple times.\n",
    "*To concatenate two list\n",
    "*To sort the elements in the list in ascending order."
   ]
  },
  {
   "cell_type": "code",
   "execution_count": 47,
   "id": "4e26a510",
   "metadata": {},
   "outputs": [
    {
     "name": "stdout",
     "output_type": "stream",
     "text": [
      "list_1=  [50, 60, 70, 80, 90]\n"
     ]
    }
   ],
   "source": [
    "list_1 = [50,60,70,80,90] #create list\n",
    "print (\"list_1= \",list_1)"
   ]
  },
  {
   "cell_type": "raw",
   "id": "ab6030ba",
   "metadata": {},
   "source": [
    "# *To add new elements to the end of the list"
   ]
  },
  {
   "cell_type": "code",
   "execution_count": 48,
   "id": "1c3469b2",
   "metadata": {},
   "outputs": [
    {
     "name": "stdout",
     "output_type": "stream",
     "text": [
      "list_1=  [50, 60, 70, 80, 90, 100]\n"
     ]
    }
   ],
   "source": [
    "list_1.append(100) # add single element to the end of the list\n",
    "print (\"list_1= \",list_1)"
   ]
  },
  {
   "cell_type": "code",
   "execution_count": 49,
   "id": "097cc6ed",
   "metadata": {},
   "outputs": [
    {
     "name": "stdout",
     "output_type": "stream",
     "text": [
      "list_1=  [50, 60, 70, 80, 90, 100, 110, 120, 130]\n"
     ]
    }
   ],
   "source": [
    "list_1.extend([110,120,130]) #add multiple elements to the end of the list\n",
    "print (\"list_1= \",list_1)"
   ]
  },
  {
   "cell_type": "raw",
   "id": "f1a38b37",
   "metadata": {},
   "source": [
    "# *To reverse elements in the list"
   ]
  },
  {
   "cell_type": "code",
   "execution_count": 50,
   "id": "4fb203d3",
   "metadata": {},
   "outputs": [
    {
     "name": "stdout",
     "output_type": "stream",
     "text": [
      "Reversed_list=  [130, 120, 110, 100, 90, 80, 70, 60, 50]\n"
     ]
    }
   ],
   "source": [
    "list_1.reverse() # to reverse elements in the list using reverse method\n",
    "print (\"Reversed_list= \",list_1)"
   ]
  },
  {
   "cell_type": "code",
   "execution_count": 51,
   "id": "97ebf564",
   "metadata": {},
   "outputs": [
    {
     "name": "stdout",
     "output_type": "stream",
     "text": [
      "Reversed list =  [50, 60, 70, 80, 90, 100, 110, 120, 130]\n"
     ]
    }
   ],
   "source": [
    "reversed_list=list_1[::-1]  # to reverse elements in the list using slicing\n",
    "print(\"Reversed list = \",reversed_list)"
   ]
  },
  {
   "cell_type": "raw",
   "id": "69c6d8bc",
   "metadata": {},
   "source": [
    "*To display the same list of elements multiple times."
   ]
  },
  {
   "cell_type": "code",
   "execution_count": 26,
   "id": "1f8b2094",
   "metadata": {},
   "outputs": [
    {
     "name": "stdout",
     "output_type": "stream",
     "text": [
      "Repeated_list =  [50, 60, 70, 80, 90, 100, 110, 120, 130, 50, 60, 70, 80, 90, 100, 110, 120, 130, 50, 60, 70, 80, 90, 100, 110, 120, 130, 50, 60, 70, 80, 90, 100, 110, 120, 130, 50, 60, 70, 80, 90, 100, 110, 120, 130, 50, 60, 70, 80, 90, 100, 110, 120, 130, 50, 60, 70, 80, 90, 100, 110, 120, 130, 50, 60, 70, 80, 90, 100, 110, 120, 130, 50, 60, 70, 80, 90, 100, 110, 120, 130, 50, 60, 70, 80, 90, 100, 110, 120, 130, 50, 60, 70, 80, 90, 100, 110, 120, 130, 50, 60, 70, 80, 90, 100, 110, 120, 130, 50, 60, 70, 80, 90, 100, 110, 120, 130]\n"
     ]
    }
   ],
   "source": [
    "repeated_list = reversed_list * 13 # Repeat the list 13 times\n",
    "print(\"Repeated_list = \",repeated_list)"
   ]
  },
  {
   "cell_type": "raw",
   "id": "2928d601",
   "metadata": {},
   "source": [
    "#*To concatenate two list"
   ]
  },
  {
   "cell_type": "code",
   "execution_count": 52,
   "id": "da03f1c5",
   "metadata": {},
   "outputs": [
    {
     "name": "stdout",
     "output_type": "stream",
     "text": [
      "Concatenated list =  [130, 120, 110, 100, 90, 80, 70, 60, 50, 'abc', 'mango', 'carrot']\n"
     ]
    }
   ],
   "source": [
    "list1 = [\"abc\", \"mango\" , \"carrot\"]  # concatenate list using \"+\" operator\n",
    "concatenated_list = list_1 + list1\n",
    "print(\"Concatenated list = \",concatenated_list)"
   ]
  },
  {
   "cell_type": "code",
   "execution_count": 35,
   "id": "a51b86d5",
   "metadata": {},
   "outputs": [
    {
     "name": "stdout",
     "output_type": "stream",
     "text": [
      "Concatenated list =  [30, 40, 50, 'abc', 'mango', 'carrot']\n"
     ]
    }
   ],
   "source": [
    "list1 = [30,40,50]\n",
    "list2 = ['abc', 'mango', 'carrot']\n",
    "list1.extend(list2)\n",
    "print (\"Concatenated list = \",list1) # concatenate using extend method"
   ]
  },
  {
   "cell_type": "raw",
   "id": "5b3f04e4",
   "metadata": {},
   "source": [
    "#*To sort the elements in the list in ascending order."
   ]
  },
  {
   "cell_type": "code",
   "execution_count": 53,
   "id": "8b62b307",
   "metadata": {},
   "outputs": [
    {
     "name": "stdout",
     "output_type": "stream",
     "text": [
      "[10, 17, 26, 34, 37, 40, 46, 50, 60, 80]\n"
     ]
    }
   ],
   "source": [
    "list_2 = [10,50,34,60,80,40,37,46,26,17] # sort elements in ascending order in the list\n",
    "list_2.sort()\n",
    "print(list_2)"
   ]
  },
  {
   "cell_type": "markdown",
   "id": "adb6c204",
   "metadata": {},
   "source": [
    "# 2.Write a Python Program to do in the tuples.\n",
    "* Manipulate using tuples.\n",
    "* To add new elements in the list.\n",
    "* To reverse elements in the list.\n",
    "* To display the elements of the same tuple multiple times.\n",
    "* To concatenate two tuples\n",
    "* To set the elements in the list in ascending order."
   ]
  },
  {
   "cell_type": "raw",
   "id": "a7777f0f",
   "metadata": {},
   "source": [
    "* Manipulate using tuples."
   ]
  },
  {
   "cell_type": "code",
   "execution_count": 1,
   "id": "a887718f",
   "metadata": {},
   "outputs": [
    {
     "name": "stdout",
     "output_type": "stream",
     "text": [
      "<class 'list'>\n"
     ]
    }
   ],
   "source": [
    "my_tuple = (30, 67, 27, 48, 87) #Tuples are immutable so i convert it to the list for manipulate operations\n",
    "my_list = list(my_tuple)\n",
    "print(type(my_list))"
   ]
  },
  {
   "cell_type": "code",
   "execution_count": 1,
   "id": "fbe9ba9f",
   "metadata": {},
   "outputs": [
    {
     "name": "stdout",
     "output_type": "stream",
     "text": [
      "<class 'list'>\n"
     ]
    }
   ],
   "source": [
    "my_tuple = (30, 67, 27, 48, 87) #Tuples are immutable so i convert it to the list for manipulate operations\n",
    "my_list = list(my_tuple)\n",
    "print(type(my_list))"
   ]
  },
  {
   "cell_type": "raw",
   "id": "330e8443",
   "metadata": {},
   "source": [
    "# *To add new elements to the end of the list"
   ]
  },
  {
   "cell_type": "code",
   "execution_count": 3,
   "id": "9f0c4f5a",
   "metadata": {},
   "outputs": [
    {
     "name": "stdout",
     "output_type": "stream",
     "text": [
      "(30, 67, 27, 48, 87, 99)\n"
     ]
    }
   ],
   "source": [
    "my_list.append(99) #add single element to the list\n",
    "print(tuple(my_list))"
   ]
  },
  {
   "cell_type": "code",
   "execution_count": 4,
   "id": "1f01775e",
   "metadata": {},
   "outputs": [
    {
     "name": "stdout",
     "output_type": "stream",
     "text": [
      "(30, 67, 27, 48, 87, 99, 85, 33, 666, 554)\n"
     ]
    }
   ],
   "source": [
    "my_list.extend((85,33,666,554)) #add multiple elements to the list\n",
    "print(tuple(my_list))"
   ]
  },
  {
   "cell_type": "raw",
   "id": "7cdc75c4",
   "metadata": {},
   "source": [
    "*To reverse elements in the list"
   ]
  },
  {
   "cell_type": "code",
   "execution_count": 5,
   "id": "147121d5",
   "metadata": {},
   "outputs": [
    {
     "name": "stdout",
     "output_type": "stream",
     "text": [
      "(554, 666, 33, 85, 99, 87, 48, 27, 67, 30)\n"
     ]
    }
   ],
   "source": [
    "my_list.reverse() #using reverse method\n",
    "print(tuple(my_list))"
   ]
  },
  {
   "cell_type": "code",
   "execution_count": 6,
   "id": "8766a5f8",
   "metadata": {},
   "outputs": [
    {
     "name": "stdout",
     "output_type": "stream",
     "text": [
      "(30, 67, 27, 48, 87, 99, 85, 33, 666, 554)\n"
     ]
    }
   ],
   "source": [
    "reversed_list = my_list[::-1]  #using slice operation,\n",
    "print(tuple(reversed_list))"
   ]
  },
  {
   "cell_type": "raw",
   "id": "bd57cd71",
   "metadata": {},
   "source": [
    "*To display the elements of the same tuple multiple times."
   ]
  },
  {
   "cell_type": "code",
   "execution_count": null,
   "id": "9c4c627a",
   "metadata": {},
   "outputs": [],
   "source": [
    "Repeated_tuple = my_tuple * 15 #Repeat the tuple multiple times\\n\",\n",
    "    \"print(Repeated_tuple)"
   ]
  },
  {
   "cell_type": "raw",
   "id": "11b3159a",
   "metadata": {},
   "source": [
    "*To concatenate two tuples"
   ]
  },
  {
   "cell_type": "code",
   "execution_count": 9,
   "id": "ec0ba543",
   "metadata": {},
   "outputs": [
    {
     "name": "stdout",
     "output_type": "stream",
     "text": [
      "(45, 67, 87, 89, 56, 87, 97, 67)\n"
     ]
    }
   ],
   "source": [
    "Tuple1 = (45,67,87,89) #Concatenate tuple1 and tuple2\n",
    "Tuple2 = (56,87,97,67)\n",
    "Concatenate_tuple = Tuple1 + Tuple2\n",
    "print(Concatenate_tuple)"
   ]
  },
  {
   "cell_type": "raw",
   "id": "9e1048a2",
   "metadata": {},
   "source": [
    "*To set the elements in the list in ascending order."
   ]
  },
  {
   "cell_type": "code",
   "execution_count": 10,
   "id": "b8998b1f",
   "metadata": {},
   "outputs": [
    {
     "name": "stdout",
     "output_type": "stream",
     "text": [
      "(27, 30, 33, 48, 67, 85, 87, 99, 554, 666)\n"
     ]
    }
   ],
   "source": [
    "my_list.sort() #sort elements in ascending order\n",
    "print(tuple(my_list))"
   ]
  },
  {
   "cell_type": "markdown",
   "id": "fcf369a3",
   "metadata": {},
   "source": [
    "# # 3. Write a python program to implement the following using list.\\n\",\n",
    "    * Create a list with integers.\"\n",
    "    * How to display the last number in the list.\n",
    "    * Command for displaying the values from the list[0:4]\n",
    "    * Command for displaying the values from the list[2:]\n",
    "    * Command for displaying the values from the list[:6]"
   ]
  },
  {
   "cell_type": "raw",
   "id": "dc1e92bf",
   "metadata": {},
   "source": [
    " *Create a list with integers."
   ]
  },
  {
   "cell_type": "code",
   "execution_count": 11,
   "id": "6f8a3ada",
   "metadata": {},
   "outputs": [
    {
     "name": "stdout",
     "output_type": "stream",
     "text": [
      "[3, 19, 5, 8, 2, 17, 14, 11, 6]\n"
     ]
    }
   ],
   "source": [
    "List01 = [3,19,5,8,2,17,14,11,6] #create list with integers\n",
    "print(List01)"
   ]
  },
  {
   "cell_type": "raw",
   "id": "5d474d19",
   "metadata": {},
   "source": [
    "  *How to display the last number in the list."
   ]
  },
  {
   "cell_type": "code",
   "execution_count": 12,
   "id": "650ff79f",
   "metadata": {},
   "outputs": [
    {
     "name": "stdout",
     "output_type": "stream",
     "text": [
      "Last_number =  6\n"
     ]
    }
   ],
   "source": [
    "last_number = List01[-1]  #print last number\n",
    "print(\"Last_number = \",last_number)"
   ]
  },
  {
   "cell_type": "raw",
   "id": "0f8f450d",
   "metadata": {},
   "source": [
    "* Command for displaying the values from the list[0:4]"
   ]
  },
  {
   "cell_type": "code",
   "execution_count": 13,
   "id": "602f202a",
   "metadata": {},
   "outputs": [
    {
     "name": "stdout",
     "output_type": "stream",
     "text": [
      "[3, 19, 5, 8]\n"
     ]
    }
   ],
   "source": [
    "values = List01[0:4]\n",
    "print(values)"
   ]
  },
  {
   "cell_type": "raw",
   "id": "b8b47f20",
   "metadata": {},
   "source": [
    "*Command for displaying the values from the list[2:]"
   ]
  },
  {
   "cell_type": "code",
   "execution_count": 14,
   "id": "dde1befd",
   "metadata": {},
   "outputs": [
    {
     "name": "stdout",
     "output_type": "stream",
     "text": [
      "[5, 8, 2, 17, 14, 11, 6]\n"
     ]
    }
   ],
   "source": [
    "values = List01[2:]\n",
    "print(values)"
   ]
  },
  {
   "cell_type": "raw",
   "id": "44e6cd25",
   "metadata": {},
   "source": [
    "* Command for displaying the values from the list[:6]"
   ]
  },
  {
   "cell_type": "code",
   "execution_count": 15,
   "id": "76372e92",
   "metadata": {},
   "outputs": [
    {
     "name": "stdout",
     "output_type": "stream",
     "text": [
      "[3, 19, 5, 8, 2, 17]\n"
     ]
    }
   ],
   "source": [
    "values = List01[:6]\n",
    "print(values)"
   ]
  },
  {
   "cell_type": "markdown",
   "id": "c302ae8d",
   "metadata": {},
   "source": [
    "# 4. Write a python program: tuple1 =(10,50,20,40,30)\n",
    "      * To display the elements 10 and 50 from tuple1.\n",
    "      * To display the length of a tuple1.\n",
    "      * To find the minimum element from tuple1.\n",
    "      * To add all the elements in the tuple1.\n",
    "      * To display the same tuple1 multiple times."
   ]
  },
  {
   "cell_type": "raw",
   "id": "7c1f6fff",
   "metadata": {},
   "source": [
    " * To display the elements 10 and 50 from tuple1."
   ]
  },
  {
   "cell_type": "code",
   "execution_count": 16,
   "id": "9dec0a77",
   "metadata": {},
   "outputs": [
    {
     "name": "stdout",
     "output_type": "stream",
     "text": [
      "(10, 50)\n"
     ]
    }
   ],
   "source": [
    "tuple1=(10,50,20,40,30)\n",
    "print (tuple1[:2])"
   ]
  },
  {
   "cell_type": "markdown",
   "id": "5237ed2a",
   "metadata": {},
   "source": [
    "* To display the length of a tuple1."
   ]
  },
  {
   "cell_type": "code",
   "execution_count": 17,
   "id": "1873e273",
   "metadata": {},
   "outputs": [
    {
     "name": "stdout",
     "output_type": "stream",
     "text": [
      "5\n"
     ]
    }
   ],
   "source": [
    "print(len(tuple1)) #length of tuple"
   ]
  },
  {
   "cell_type": "raw",
   "id": "84a9ed2e",
   "metadata": {},
   "source": [
    " * To find the minimum element from tuple1."
   ]
  },
  {
   "cell_type": "code",
   "execution_count": 18,
   "id": "a66cd25b",
   "metadata": {},
   "outputs": [
    {
     "name": "stdout",
     "output_type": "stream",
     "text": [
      "10\n"
     ]
    }
   ],
   "source": [
    "print(min(tuple1)) #minimum value"
   ]
  },
  {
   "cell_type": "raw",
   "id": "7a13f7a2",
   "metadata": {},
   "source": [
    " * To add all the elements in the tuple1."
   ]
  },
  {
   "cell_type": "code",
   "execution_count": 20,
   "id": "10a99789",
   "metadata": {},
   "outputs": [
    {
     "name": "stdout",
     "output_type": "stream",
     "text": [
      "150\n"
     ]
    }
   ],
   "source": [
    "total = sum(tuple1) #add all the elements\"\n",
    "print(total)"
   ]
  },
  {
   "cell_type": "raw",
   "id": "ba58f9a7",
   "metadata": {},
   "source": [
    "* To display the same tuple1 multiple times."
   ]
  },
  {
   "cell_type": "code",
   "execution_count": 22,
   "id": "0cb3b241",
   "metadata": {},
   "outputs": [
    {
     "name": "stdout",
     "output_type": "stream",
     "text": [
      "(10, 50, 20, 40, 30, 10, 50, 20, 40, 30, 10, 50, 20, 40, 30, 10, 50, 20, 40, 30, 10, 50, 20, 40, 30, 10, 50, 20, 40, 30, 10, 50, 20, 40, 30, 10, 50, 20, 40, 30, 10, 50, 20, 40, 30, 10, 50, 20, 40, 30, 10, 50, 20, 40, 30, 10, 50, 20, 40, 30, 10, 50, 20, 40, 30)\n"
     ]
    }
   ],
   "source": [
    "Repeated_tuple = tuple1 * 13\n",
    "print(Repeated_tuple)"
   ]
  },
  {
   "cell_type": "markdown",
   "id": "60ab76a4",
   "metadata": {},
   "source": [
    "# 5.Write a Python Program:\n",
    "       *To calculate the length of the string.\n",
    "       *To reverse words in string\n",
    "       *To display the same string multiple times.\n",
    "       *To concatenate two strings\n",
    "       *Str1 = \\\"South India\\\", using string slicing to display \"India\""
   ]
  },
  {
   "cell_type": "code",
   "execution_count": 24,
   "id": "b87a508e",
   "metadata": {},
   "outputs": [
    {
     "name": "stdout",
     "output_type": "stream",
     "text": [
      "Hello World\n"
     ]
    }
   ],
   "source": [
    "my_string = \"Hello World\"\n",
    "print(my_string)"
   ]
  },
  {
   "cell_type": "raw",
   "id": "84257363",
   "metadata": {},
   "source": [
    "*To calculate the length of the string."
   ]
  },
  {
   "cell_type": "code",
   "execution_count": 25,
   "id": "1910cf8b",
   "metadata": {},
   "outputs": [
    {
     "name": "stdout",
     "output_type": "stream",
     "text": [
      "11\n"
     ]
    }
   ],
   "source": [
    " print(len(my_string))"
   ]
  },
  {
   "cell_type": "raw",
   "id": "cb7ff191",
   "metadata": {},
   "source": [
    " *To reverse words in string"
   ]
  },
  {
   "cell_type": "code",
   "execution_count": 26,
   "id": "a8520688",
   "metadata": {},
   "outputs": [
    {
     "name": "stdout",
     "output_type": "stream",
     "text": [
      "dlroW olleH\n"
     ]
    }
   ],
   "source": [
    "print(my_string[::-1]) #reverse word using slicing"
   ]
  },
  {
   "cell_type": "raw",
   "id": "b959f6d5",
   "metadata": {},
   "source": [
    "*To display the same string multiple times."
   ]
  },
  {
   "cell_type": "code",
   "execution_count": 27,
   "id": "05969ba0",
   "metadata": {},
   "outputs": [
    {
     "name": "stdout",
     "output_type": "stream",
     "text": [
      "Hello WorldHello WorldHello WorldHello WorldHello WorldHello WorldHello WorldHello WorldHello WorldHello WorldHello WorldHello WorldHello World\n"
     ]
    }
   ],
   "source": [
    " print(my_string * 13)"
   ]
  },
  {
   "cell_type": "raw",
   "id": "3db46d8d",
   "metadata": {},
   "source": [
    "* To concatenate two strings"
   ]
  },
  {
   "cell_type": "code",
   "execution_count": 31,
   "id": "bb041e87",
   "metadata": {},
   "outputs": [
    {
     "name": "stdout",
     "output_type": "stream",
     "text": [
      "Hello World South India\n"
     ]
    }
   ],
   "source": [
    "Str1 = \"South India\"\n",
    "Concatenate_str = my_string + \" \" +Str1\n",
    "print(Concatenate_str)"
   ]
  },
  {
   "cell_type": "markdown",
   "id": "675fa7a0",
   "metadata": {},
   "source": [
    "*Str1 = \"South India\", using string slicing to display \"India\""
   ]
  },
  {
   "cell_type": "code",
   "execution_count": 32,
   "id": "53bd6418",
   "metadata": {},
   "outputs": [
    {
     "name": "stdout",
     "output_type": "stream",
     "text": [
      " India\n"
     ]
    }
   ],
   "source": [
    "print(Str1[-6:])"
   ]
  },
  {
   "cell_type": "markdown",
   "id": "809540dd",
   "metadata": {},
   "source": [
    "# 6.Perform the following:\\n\",\n",
    "       * Creating the Dictionary.\n",
    "       * Accessing values and keys in the Dictionary\n",
    "       * Updating the dictionary using a function.\n",
    "       * Clear and delete the dictionary values."
   ]
  },
  {
   "cell_type": "code",
   "execution_count": null,
   "id": "61fe87d5",
   "metadata": {},
   "outputs": [],
   "source": [
    "* Creating the Dictionary."
   ]
  },
  {
   "cell_type": "code",
   "execution_count": 36,
   "id": "fa545837",
   "metadata": {},
   "outputs": [
    {
     "name": "stdout",
     "output_type": "stream",
     "text": [
      "{'name': 'John', 'age': 30, 'city': 'New York'}\n"
     ]
    }
   ],
   "source": [
    "my_dict = {\n",
    "    \"name\": \"John\",\n",
    "    \"age\": 30,\n",
    "    \"city\": \"New York\"\n",
    "}\n",
    "\n",
    "print(my_dict)"
   ]
  },
  {
   "cell_type": "code",
   "execution_count": null,
   "id": "77583091",
   "metadata": {},
   "outputs": [],
   "source": [
    "\"* Accessing values and keys in the Dictionary\""
   ]
  },
  {
   "cell_type": "code",
   "execution_count": 38,
   "id": "64b2cee9",
   "metadata": {},
   "outputs": [
    {
     "name": "stdout",
     "output_type": "stream",
     "text": [
      "John\n",
      "30\n",
      "New York\n"
     ]
    }
   ],
   "source": [
    "my_dict = {\n",
    "    \"name\": \"John\",\n",
    "    \"age\": 30,\n",
    "    \"city\": \"New York\"\n",
    "}\n",
    "\n",
    "name = my_dict.get(\"name\")\n",
    "age = my_dict.get(\"age\")\n",
    "city = my_dict.get(\"city\")\n",
    "\n",
    "print(name)  \n",
    "print(age)  \n",
    "print(city)"
   ]
  },
  {
   "cell_type": "code",
   "execution_count": 39,
   "id": "662ca5e7",
   "metadata": {},
   "outputs": [
    {
     "name": "stdout",
     "output_type": "stream",
     "text": [
      "dict_keys(['name', 'age', 'city'])\n"
     ]
    }
   ],
   "source": [
    "  my_dict = {\n",
    "    \"name\": \"John\",\n",
    "    \"age\": 30,\n",
    "    \"city\": \"New York\"\n",
    "}\n",
    "\n",
    "keys = my_dict.keys()\n",
    "print(keys)  \n"
   ]
  },
  {
   "cell_type": "code",
   "execution_count": 41,
   "id": "ae020b66",
   "metadata": {},
   "outputs": [
    {
     "name": "stdout",
     "output_type": "stream",
     "text": [
      "['John', 30, 'New York']\n"
     ]
    }
   ],
   "source": [
    " my_dict = {\n",
    "    \"name\": \"John\",\n",
    "    \"age\": 30,\n",
    "    \"city\": \"New York\"\n",
    "}\n",
    "\n",
    "values_list = list(my_dict.values())\n",
    "\n",
    "print(values_list)"
   ]
  },
  {
   "cell_type": "raw",
   "id": "fd805bf2",
   "metadata": {},
   "source": [
    "  * Updating the dictionary using a function."
   ]
  },
  {
   "cell_type": "code",
   "execution_count": 45,
   "id": "e6a71135",
   "metadata": {},
   "outputs": [
    {
     "name": "stdout",
     "output_type": "stream",
     "text": [
      "{'name': 'John', 'age': 31, 'city': 'New York', 'height': 3.6}\n"
     ]
    }
   ],
   "source": [
    "def update_dict(my_dict):    #update the dictionary\n",
    "       my_dict[\"height\"] = 3.6\n",
    "       my_dict[\"age\"] = 31\n",
    "update_dict(my_dict)\n",
    "print(my_dict)"
   ]
  },
  {
   "cell_type": "raw",
   "id": "41c9e5fc",
   "metadata": {},
   "source": [
    " * Clear and delete the dictionary values."
   ]
  },
  {
   "cell_type": "code",
   "execution_count": 46,
   "id": "aa36a481",
   "metadata": {},
   "outputs": [
    {
     "name": "stdout",
     "output_type": "stream",
     "text": [
      "{}\n"
     ]
    }
   ],
   "source": [
    "my_dict.clear() #clear the dictionary\n",
    "print (my_dict)"
   ]
  },
  {
   "cell_type": "code",
   "execution_count": 47,
   "id": "71654648",
   "metadata": {},
   "outputs": [],
   "source": [
    "del (my_dict)#delete the dictionary"
   ]
  },
  {
   "cell_type": "markdown",
   "id": "0cbf187d",
   "metadata": {},
   "source": [
    "# 7. Python program to insert a number to any position in a list."
   ]
  },
  {
   "cell_type": "code",
   "execution_count": 49,
   "id": "c4934db1",
   "metadata": {},
   "outputs": [
    {
     "name": "stdout",
     "output_type": "stream",
     "text": [
      "[10, 20, 30, 60, 40, 50]\n"
     ]
    }
   ],
   "source": [
    "Mylist = [10,20,30,40,50] #insert number in the list\\n\n",
    "number_to_insert = 60\n",
    "insert_position = 3\n",
    "Mylist.insert(3,60)\n",
    "print(Mylist)"
   ]
  },
  {
   "cell_type": "markdown",
   "id": "62a35e95",
   "metadata": {},
   "source": [
    "# 8.Python program to delete an element in the index.\n"
   ]
  },
  {
   "cell_type": "code",
   "execution_count": 52,
   "id": "57409331",
   "metadata": {},
   "outputs": [
    {
     "name": "stdout",
     "output_type": "stream",
     "text": [
      "[1, 2, 4, 5]\n"
     ]
    }
   ],
   "source": [
    "my_list = [1, 2, 3, 4, 5]\n",
    "index_to_delete = 2 \n",
    "if 0 <= index_to_delete < len(my_list):\n",
    "    del my_list[index_to_delete]\n",
    "    print(my_list)\n",
    "else:\n",
    "        print(\"Invalid index\")"
   ]
  },
  {
   "cell_type": "code",
   "execution_count": 53,
   "id": "64b89ba8",
   "metadata": {},
   "outputs": [
    {
     "name": "stdout",
     "output_type": "stream",
     "text": [
      "[10, 20, 60, 40, 50]\n"
     ]
    }
   ],
   "source": [
    "index_to_delete = 3 #using del method\n",
    "del Mylist[2]\n",
    "print(Mylist)"
   ]
  },
  {
   "cell_type": "code",
   "execution_count": 54,
   "id": "db7316f2",
   "metadata": {},
   "outputs": [
    {
     "name": "stdout",
     "output_type": "stream",
     "text": [
      "[10, 60, 40, 50]\n"
     ]
    }
   ],
   "source": [
    "Mylist.pop(1) # using pop method\n",
    "print(Mylist)"
   ]
  },
  {
   "cell_type": "code",
   "execution_count": 55,
   "id": "16a01233",
   "metadata": {},
   "outputs": [
    {
     "name": "stdout",
     "output_type": "stream",
     "text": [
      "[10, 60, 50]\n"
     ]
    }
   ],
   "source": [
    "index_to_delete = 3 #using del method\n",
    "del Mylist[2]\n",
    "print(Mylist)"
   ]
  },
  {
   "cell_type": "markdown",
   "id": "8437ddd8",
   "metadata": {},
   "source": [
    "# 9.Write a program to display a number from 1 to 100."
   ]
  },
  {
   "cell_type": "code",
   "execution_count": 56,
   "id": "32728c15",
   "metadata": {},
   "outputs": [
    {
     "name": "stdout",
     "output_type": "stream",
     "text": [
      "1\n",
      "2\n",
      "3\n",
      "4\n",
      "5\n",
      "6\n",
      "7\n",
      "8\n",
      "9\n",
      "10\n",
      "11\n",
      "12\n",
      "13\n",
      "14\n",
      "15\n",
      "16\n",
      "17\n",
      "18\n",
      "19\n",
      "20\n",
      "21\n",
      "22\n",
      "23\n",
      "24\n",
      "25\n",
      "26\n",
      "27\n",
      "28\n",
      "29\n",
      "30\n",
      "31\n",
      "32\n",
      "33\n",
      "34\n",
      "35\n",
      "36\n",
      "37\n",
      "38\n",
      "39\n",
      "40\n",
      "41\n",
      "42\n",
      "43\n",
      "44\n",
      "45\n",
      "46\n",
      "47\n",
      "48\n",
      "49\n",
      "50\n",
      "51\n",
      "52\n",
      "53\n",
      "54\n",
      "55\n",
      "56\n",
      "57\n",
      "58\n",
      "59\n",
      "60\n",
      "61\n",
      "62\n",
      "63\n",
      "64\n",
      "65\n",
      "66\n",
      "67\n",
      "68\n",
      "69\n",
      "70\n",
      "71\n",
      "72\n",
      "73\n",
      "74\n",
      "75\n",
      "76\n",
      "77\n",
      "78\n",
      "79\n",
      "80\n",
      "81\n",
      "82\n",
      "83\n",
      "84\n",
      "85\n",
      "86\n",
      "87\n",
      "88\n",
      "89\n",
      "90\n",
      "91\n",
      "92\n",
      "93\n",
      "94\n",
      "95\n",
      "96\n",
      "97\n",
      "98\n",
      "99\n",
      "100\n"
     ]
    }
   ],
   "source": [
    "for number in range(1,101):\n",
    "    print(number)"
   ]
  },
  {
   "cell_type": "markdown",
   "id": "7daf0437",
   "metadata": {},
   "source": [
    "# 10. Write a Python Program to find the sum of all items in a tuple."
   ]
  },
  {
   "cell_type": "code",
   "execution_count": 57,
   "id": "900a574f",
   "metadata": {},
   "outputs": [
    {
     "name": "stdout",
     "output_type": "stream",
     "text": [
      "Sum of all items in a tuple :  1778\n"
     ]
    }
   ],
   "source": [
    "MyTuple = (45,60,34,12,79,89,124,546,789)\n",
    "Total = sum(MyTuple)\n",
    "print(\"Sum of all items in a tuple : \",Total)"
   ]
  },
  {
   "cell_type": "code",
   "execution_count": 58,
   "id": "9814b055",
   "metadata": {},
   "outputs": [
    {
     "name": "stdout",
     "output_type": "stream",
     "text": [
      "Sum of all items in the tuple: 15\n"
     ]
    }
   ],
   "source": [
    "my_tuple = (1, 2, 3, 4, 5)\n",
    "total_sum = 0\n",
    "for item in my_tuple:\n",
    "    total_sum += item\n",
    "print(\"Sum of all items in the tuple:\", total_sum)"
   ]
  },
  {
   "cell_type": "markdown",
   "id": "4b393bc8",
   "metadata": {},
   "source": [
    "# 11.Create a dictionary containing three lambda functions square,cube and square root.\n",
    "* E.g.dict = {'Square': function for squaring,'Cube': function for cube, 'Squareroot':function for square root}\n",
    "* Pass the values [input from the user] to the functions in the dictionary respectively.\n",
    "* Then add the outputs of each function and print it."
   ]
  },
  {
   "cell_type": "code",
   "execution_count": 15,
   "id": "b6767364",
   "metadata": {},
   "outputs": [
    {
     "name": "stdout",
     "output_type": "stream",
     "text": [
      "Enter a number: 54\n",
      "Square of 54.0 is 2916.0\n",
      "Cube of 54.0 is 157464.0\n",
      "Squareroot of 54.0 is 7.3484692283495345\n",
      "The sum of all function outputs is: 160387.34846922834\n"
     ]
    }
   ],
   "source": [
    "# Create a dictionary of lambda functions\n",
    "operations = {\n",
    "    'Square': lambda x: x ** 2,\n",
    "    'Cube': lambda x: x ** 3,\n",
    "    'Squareroot': lambda x: x ** 0.5\n",
    "}\n",
    "\n",
    "# Get user input for a number\n",
    "num = float(input(\"Enter a number: \"))\n",
    "\n",
    "# Initialize a variable to store the sum of function outputs\n",
    "result = 0\n",
    "\n",
    "# Iterate through the dictionary and apply the functions\n",
    "for operation_name, operation_func in operations.items():\n",
    "    output = operation_func(num)\n",
    "    print(f'{operation_name} of {num} is {output}')\n",
    "    result += output\n",
    "\n",
    "# Print the sum of function outputs\n",
    "print(f'The sum of all function outputs is: {result}')"
   ]
  },
  {
   "cell_type": "markdown",
   "id": "e4562dfa",
   "metadata": {},
   "source": [
    "# 12. A list of words is given. Find the words from the list that have their second character in uppercase\n",
    "ls = ['hello','Dear','hOw','ARe','You']"
   ]
  },
  {
   "cell_type": "code",
   "execution_count": 16,
   "id": "3b18f03e",
   "metadata": {},
   "outputs": [
    {
     "name": "stdout",
     "output_type": "stream",
     "text": [
      "Words with the second character in uppercase:\n",
      "hOw\n",
      "ARe\n"
     ]
    }
   ],
   "source": [
    "ls = ['hello', 'Dear', 'hOw', 'ARe', 'You']\n",
    "\n",
    "# Initialize a list to store words with the second character in uppercase\n",
    "result = []\n",
    "\n",
    "# Iterate through the list and check the second character\n",
    "for word in ls:\n",
    "    if len(word) >= 2 and word[1].isupper():\n",
    "        result.append(word)\n",
    "\n",
    "# Print the words that meet the condition\n",
    "print(\"Words with the second character in uppercase:\")\n",
    "for word in result:\n",
    "    print(word)"
   ]
  },
  {
   "cell_type": "markdown",
   "id": "cbc773e5",
   "metadata": {},
   "source": [
    "# 13. A dictionary of names and their weights on earth is given.Find how much they will weigh on the moon.[use map functions]\n",
    "Formula : wMoon=(wEarth * GMoon)/GEarth\n",
    "#Weight of people in kg\n",
    "    * WeightOnEarth = {'John':45,'Shelly':65, 'Marry':35}\n",
    "#Gravitational force on the Moon:1.622 m/S2\n",
    "    * GMoon = 1.622\n",
    "#Gravitational force on the Earth:9.81 m/S2\n",
    "    * GEarth = 9.81"
   ]
  },
  {
   "cell_type": "code",
   "execution_count": 17,
   "id": "521647d1",
   "metadata": {},
   "outputs": [
    {
     "name": "stdout",
     "output_type": "stream",
     "text": [
      "Weights on the Moon:\n",
      "John: 7.44 kg\n",
      "Shelly: 10.75 kg\n",
      "Marry: 5.79 kg\n"
     ]
    }
   ],
   "source": [
    "# Weight of people in kg\n",
    "WeightOnEarth = {'John': 45, 'Shelly': 65, 'Marry': 35}\n",
    "\n",
    "# Gravitational force on the Moon: 1.622 m/s^2\n",
    "GMoon = 1.622\n",
    "\n",
    "# Gravitational force on the Earth: 9.81 m/s^2\n",
    "GEarth = 9.81\n",
    "\n",
    "# Function to calculate weight on the Moon\n",
    "def weight_on_moon(weight_earth):\n",
    "    return (weight_earth * GMoon) / GEarth\n",
    "\n",
    "# Use the map function to apply the formula to each person's weight\n",
    "weights_on_moon = list(map(weight_on_moon, WeightOnEarth.values()))\n",
    "\n",
    "# Create a dictionary to store the results\n",
    "WeightOnMoon = dict(zip(WeightOnEarth.keys(), weights_on_moon))\n",
    "\n",
    "# Print the results\n",
    "print(\"Weights on the Moon:\")\n",
    "for name, weight in WeightOnMoon.items():\n",
    "    print(f\"{name}: {weight:.2f} kg\")"
   ]
  },
  {
   "cell_type": "markdown",
   "id": "006250d6",
   "metadata": {},
   "source": [
    "# CONTROL STRUCTURE :"
   ]
  },
  {
   "cell_type": "markdown",
   "id": "e970ba25",
   "metadata": {},
   "source": [
    "1. Write a python program to find the first N prime numbers."
   ]
  },
  {
   "cell_type": "code",
   "execution_count": 63,
   "id": "5b0cb1ad",
   "metadata": {},
   "outputs": [
    {
     "name": "stdout",
     "output_type": "stream",
     "text": [
      "Enter a number: 100\n",
      "Prime numbers up to 100:\n",
      "2 3 5 7 11 13 17 19 23 29 31 37 41 43 47 53 59 61 67 71 73 79 83 89 97 "
     ]
    }
   ],
   "source": [
    "def is_prime(n):\n",
    "    if n <= 1:\n",
    "        return False\n",
    "    for i in range(2, int(n//2) + 1):\n",
    "        if n % i == 0:\n",
    "            return False\n",
    "    return True\n",
    "\n",
    "N = int(input(\"Enter a number: \"))\n",
    "\n",
    "print(f\"Prime numbers up to {N}:\")\n",
    "for i in range(2, N + 1):\n",
    "    if is_prime(i):\n",
    "        print(i, end=\" \")\n"
   ]
  },
  {
   "cell_type": "markdown",
   "id": "e6e6ab29",
   "metadata": {},
   "source": [
    "2. Write the python code that calculates the salary of an employee.Prompt the user to enter the Basic Salary,HRA,TA and DA.Add these components to calculate the Gross Salary.Also, deduct 10% of salary from the Gross salary to be paid as tax and display gross minus tax as net salary."
   ]
  },
  {
   "cell_type": "code",
   "execution_count": 3,
   "id": "c85f3c42",
   "metadata": {},
   "outputs": [
    {
     "name": "stdout",
     "output_type": "stream",
     "text": [
      "Enter Basic Salary: 25000\n",
      "Enter HRA: 8000\n",
      "Enter TA: 3500\n",
      "Enter DA: 3000\n",
      "Gross Salary: 39500.0\n",
      "Net Salary: 35550.0\n"
     ]
    }
   ],
   "source": [
    "# Prompt the user to enter the Basic Salary, HRA, TA, and DA\n",
    "basic_salary = float(input(\"Enter Basic Salary: \"))\n",
    "hra = float(input(\"Enter HRA: \"))\n",
    "ta = float(input(\"Enter TA: \"))\n",
    "da = float(input(\"Enter DA: \"))\n",
    "\n",
    "# Calculate the Gross Salary\n",
    "gross_salary = basic_salary + hra + ta + da\n",
    "\n",
    "# Calculate the tax (10% of Gross Salary)\n",
    "tax = 0.10 * gross_salary\n",
    "\n",
    "# Calculate the Net Salary\n",
    "net_salary = gross_salary - tax\n",
    "\n",
    "# Display the Gross Salary and Net Salary\n",
    "print(f\"Gross Salary: {gross_salary}\")\n",
    "print(f\"Net Salary: {net_salary}\")"
   ]
  },
  {
   "cell_type": "markdown",
   "id": "e20b162e",
   "metadata": {},
   "source": [
    "3. Write a program to search a string in the list."
   ]
  },
  {
   "cell_type": "code",
   "execution_count": 1,
   "id": "79de14f7",
   "metadata": {},
   "outputs": [
    {
     "name": "stdout",
     "output_type": "stream",
     "text": [
      "'cherry' was found in the list.\n"
     ]
    }
   ],
   "source": [
    "my_list = [\"apple\", \"banana\", \"cherry\", \"date\", \"fig\"]\n",
    "search_string = \"cherry\"\n",
    "found = False\n",
    "for item in my_list:\n",
    "    if item == search_string:\n",
    "        found = True\n",
    "        break\n",
    "if found:\n",
    "    print(\"'\" + search_string + \"' was found in the list.\")\n",
    "else:\n",
    "    print(\"'\" + search_string + \"' was not found in the list.\")"
   ]
  },
  {
   "cell_type": "markdown",
   "id": "acf5098f",
   "metadata": {},
   "source": [
    "4. Write a python function that accepts a string and calculates the number of upper-case letters and lower-case letters."
   ]
  },
  {
   "cell_type": "code",
   "execution_count": 1,
   "id": "bd40d070",
   "metadata": {},
   "outputs": [
    {
     "name": "stdout",
     "output_type": "stream",
     "text": [
      "Enter the string: Hello World\n",
      "Number of Uppercase letters: 2\n",
      "Number of lowercase letters: 8\n"
     ]
    }
   ],
   "source": [
    "def countletters(input_string):\n",
    "    upper_count = 0\n",
    "    lower_count = 0\n",
    "    for char in input_string:\n",
    "        if char.isupper():\n",
    "            upper_count += 1\n",
    "        elif char.islower():\n",
    "            lower_count += 1\n",
    "    return upper_count, lower_count\n",
    "\n",
    "input_str = input(\"Enter the string: \")\n",
    "upper, lower = countletters(input_str)\n",
    "print(\"Number of Uppercase letters:\", upper)\n",
    "print(\"Number of lowercase letters:\", lower)"
   ]
  },
  {
   "cell_type": "markdown",
   "id": "279ff200",
   "metadata": {},
   "source": [
    "5. Write a program to display the sum of odd numbers and even numbers that fall between 12 and 37."
   ]
  },
  {
   "cell_type": "code",
   "execution_count": 1,
   "id": "2d3bff2f",
   "metadata": {},
   "outputs": [
    {
     "name": "stdout",
     "output_type": "stream",
     "text": [
      "Sum of even numbers: 312\n",
      "Sum of odd numbers: 325\n"
     ]
    }
   ],
   "source": [
    "# Initialize variables to store the sums\n",
    "even_sum = 0\n",
    "odd_sum = 0\n",
    "\n",
    "# Iterate through numbers from 12 to 37\n",
    "for num in range(12, 38):\n",
    "    # Check if the number is even\n",
    "    if num % 2 == 0:\n",
    "        even_sum += num\n",
    "    else:\n",
    "        odd_sum += num\n",
    "\n",
    "# Display the sums\n",
    "print(\"Sum of even numbers:\", even_sum)\n",
    "print(\"Sum of odd numbers:\", odd_sum)\n"
   ]
  },
  {
   "cell_type": "markdown",
   "id": "5e2dd1c5",
   "metadata": {},
   "source": [
    "6. Write a program to print the table of any number."
   ]
  },
  {
   "cell_type": "code",
   "execution_count": 2,
   "id": "23c7e222",
   "metadata": {},
   "outputs": [
    {
     "name": "stdout",
     "output_type": "stream",
     "text": [
      "Enter a number: 5\n",
      "Table of 5:\n",
      "5 x 1 = 5\n",
      "5 x 2 = 10\n",
      "5 x 3 = 15\n",
      "5 x 4 = 20\n",
      "5 x 5 = 25\n",
      "5 x 6 = 30\n",
      "5 x 7 = 35\n",
      "5 x 8 = 40\n",
      "5 x 9 = 45\n",
      "5 x 10 = 50\n"
     ]
    }
   ],
   "source": [
    "# Get the number from the user\n",
    "num = int(input(\"Enter a number: \"))\n",
    "\n",
    "# Print the table of the entered number\n",
    "print(f\"Table of {num}:\")\n",
    "\n",
    "for i in range(1, 11):\n",
    "    result = num * i\n",
    "    print(f\"{num} x {i} = {result}\")\n"
   ]
  },
  {
   "cell_type": "markdown",
   "id": "93ee68be",
   "metadata": {},
   "source": [
    "7. Write a program to search the first 10 prime numbers."
   ]
  },
  {
   "cell_type": "code",
   "execution_count": 4,
   "id": "2b7aa138",
   "metadata": {},
   "outputs": [
    {
     "name": "stdout",
     "output_type": "stream",
     "text": [
      "The first 10 prime numbers are:\n",
      "2 3 5 7 11 13 17 19 23 29 \n"
     ]
    }
   ],
   "source": [
    "# Function to check if a number is prime\n",
    "def is_prime(num):\n",
    "    if num <= 1:\n",
    "        return False\n",
    "    if num == 2:\n",
    "        return True\n",
    "    if num % 2 == 0:\n",
    "        return False\n",
    "    for i in range(3, int(num**0.5) + 1, 2):\n",
    "        if num % i == 0:\n",
    "            return False\n",
    "    return True\n",
    "\n",
    "# Find and print the first 10 prime numbers\n",
    "count = 0\n",
    "num = 2\n",
    "\n",
    "print(\"The first 10 prime numbers are:\")\n",
    "while count < 10:\n",
    "    if is_prime(num):\n",
    "        print(num, end=\" \")\n",
    "        count += 1\n",
    "    num += 1\n",
    "\n",
    "print() "
   ]
  },
  {
   "cell_type": "markdown",
   "id": "d7695f24",
   "metadata": {},
   "source": [
    "8.Write a python program to implement arithmetic operators using nested if statement."
   ]
  },
  {
   "cell_type": "code",
   "execution_count": 5,
   "id": "bc1699f1",
   "metadata": {},
   "outputs": [
    {
     "name": "stdout",
     "output_type": "stream",
     "text": [
      "Enter the first number: 25\n",
      "Enter the second number: 56\n",
      "Enter an arithmetic operator (+, -, *, /): *\n",
      "Result: 1400.0\n"
     ]
    }
   ],
   "source": [
    "# Get user input for two numbers and an operator\n",
    "num1 = float(input(\"Enter the first number: \"))\n",
    "num2 = float(input(\"Enter the second number: \"))\n",
    "operator = input(\"Enter an arithmetic operator (+, -, *, /): \")\n",
    "\n",
    "# Perform the arithmetic operation based on the operator\n",
    "result = None\n",
    "\n",
    "if operator == '+':\n",
    "    result = num1 + num2\n",
    "elif operator == '-':\n",
    "    result = num1 - num2\n",
    "elif operator == '*':\n",
    "    result = num1 * num2\n",
    "elif operator == '/':\n",
    "    if num2 != 0:\n",
    "        result = num1 / num2\n",
    "    else:\n",
    "        print(\"Error: Division by zero is not allowed\")\n",
    "else:\n",
    "    print(\"Error: Invalid operator\")\n",
    "\n",
    "# Display the result if it's valid\n",
    "if result is not None:\n",
    "    print(f\"Result: {result}\")\n"
   ]
  },
  {
   "cell_type": "markdown",
   "id": "39378b4a",
   "metadata": {},
   "source": [
    "9. Write a python program to take the temperature in Celsius and convert it to a Fahrenheit."
   ]
  },
  {
   "cell_type": "code",
   "execution_count": 6,
   "id": "37451ae2",
   "metadata": {},
   "outputs": [
    {
     "name": "stdout",
     "output_type": "stream",
     "text": [
      "Enter temperature in Celsius: 32\n",
      "32.0 degrees Celsius is equal to 89.6 degrees Fahrenheit\n"
     ]
    }
   ],
   "source": [
    "# Get temperature in Celsius from the user\n",
    "celsius = float(input(\"Enter temperature in Celsius: \"))\n",
    "\n",
    "# Convert Celsius to Fahrenheit\n",
    "fahrenheit = (celsius * 9/5) + 32\n",
    "\n",
    "# Display the result\n",
    "print(f\"{celsius} degrees Celsius is equal to {fahrenheit} degrees Fahrenheit\")"
   ]
  },
  {
   "cell_type": "markdown",
   "id": "15f4856a",
   "metadata": {},
   "source": [
    "10. Write a python program to find a maximum and minimum number in a list without using an inbuilt function."
   ]
  },
  {
   "cell_type": "code",
   "execution_count": 7,
   "id": "97366074",
   "metadata": {},
   "outputs": [
    {
     "name": "stdout",
     "output_type": "stream",
     "text": [
      "Maximum number: 89\n",
      "Minimum number: 9\n"
     ]
    }
   ],
   "source": [
    "# Function to find maximum and minimum numbers in a list\n",
    "def find_max_min(numbers):\n",
    "    if not numbers:\n",
    "        return None, None  # Handle empty list\n",
    "\n",
    "    max_num = numbers[0]\n",
    "    min_num = numbers[0]\n",
    "\n",
    "    for num in numbers:\n",
    "        if num > max_num:\n",
    "            max_num = num\n",
    "        elif num < min_num:\n",
    "            min_num = num\n",
    "\n",
    "    return max_num, min_num\n",
    "\n",
    "# Example usage\n",
    "my_list = [23, 45, 12, 67, 89, 34, 9, 50]\n",
    "\n",
    "max_number, min_number = find_max_min(my_list)\n",
    "\n",
    "if max_number is not None and min_number is not None:\n",
    "    print(f\"Maximum number: {max_number}\")\n",
    "    print(f\"Minimum number: {min_number}\")\n",
    "else:\n",
    "    print(\"The list is empty.\")"
   ]
  },
  {
   "cell_type": "markdown",
   "id": "0948a8c2",
   "metadata": {},
   "source": [
    "11. Write a program in python to print out the number of seconds in 30-day month 30 days,24 hours in a day,60 seconds in a minute."
   ]
  },
  {
   "cell_type": "code",
   "execution_count": 8,
   "id": "4fabc07a",
   "metadata": {},
   "outputs": [
    {
     "name": "stdout",
     "output_type": "stream",
     "text": [
      "There are 2592000 seconds in a 30-day month.\n"
     ]
    }
   ],
   "source": [
    "# Constants for time units\n",
    "seconds_per_minute = 60\n",
    "minutes_per_hour = 60\n",
    "hours_per_day = 24\n",
    "\n",
    "# Number of days in the month\n",
    "days_in_month = 30\n",
    "\n",
    "# Calculate the total number of seconds\n",
    "total_seconds = days_in_month * hours_per_day * minutes_per_hour * seconds_per_minute\n",
    "\n",
    "# Print the result\n",
    "print(f\"There are {total_seconds} seconds in a 30-day month.\")"
   ]
  },
  {
   "cell_type": "markdown",
   "id": "e4620fa4",
   "metadata": {},
   "source": [
    "12. Write a program in python to print out the number of seconds in a year."
   ]
  },
  {
   "cell_type": "code",
   "execution_count": 9,
   "id": "5d4bc6db",
   "metadata": {},
   "outputs": [
    {
     "name": "stdout",
     "output_type": "stream",
     "text": [
      "There are approximately 31536000 seconds in a year (assuming a non-leap year).\n"
     ]
    }
   ],
   "source": [
    "# Constants for time units\n",
    "seconds_per_minute = 60\n",
    "minutes_per_hour = 60\n",
    "hours_per_day = 24\n",
    "days_per_year = 365  # Assuming a non-leap year\n",
    "\n",
    "# Calculate the total number of seconds in a year\n",
    "seconds_per_year = days_per_year * hours_per_day * minutes_per_hour * seconds_per_minute\n",
    "\n",
    "# Print the result\n",
    "print(f\"There are approximately {seconds_per_year} seconds in a year (assuming a non-leap year).\")"
   ]
  },
  {
   "cell_type": "markdown",
   "id": "b6da0d27",
   "metadata": {},
   "source": [
    "13. A high-speed train can travel at an average speed of 150 mph,how long will it take a train travelling at this speed to travel from London to Glasgow which is 414 miles away?"
   ]
  },
  {
   "cell_type": "code",
   "execution_count": 10,
   "id": "33f8991b",
   "metadata": {},
   "outputs": [
    {
     "name": "stdout",
     "output_type": "stream",
     "text": [
      "It will take 2.76 hours to travel from London to Glasgow at an average speed of 150 mph.\n"
     ]
    }
   ],
   "source": [
    "# Constants\n",
    "distance_miles = 414  # Distance from London to Glasgow in miles\n",
    "speed_mph = 150       # Average speed of the train in mph\n",
    "\n",
    "# Calculate the time in hours\n",
    "time_hours = distance_miles / speed_mph\n",
    "\n",
    "# Display the result\n",
    "print(f\"It will take {time_hours} hours to travel from London to Glasgow at an average speed of 150 mph.\")"
   ]
  },
  {
   "cell_type": "markdown",
   "id": "44280390",
   "metadata": {},
   "source": [
    "14. Write a python program that defines a variable called days_in_each_school_yaer and assign 192 to the variable.The program should then print out the total hours that you spend in the school from year 7 to year 11,if each day spend 6 hours in school days_in_each_school_year = 192"
   ]
  },
  {
   "cell_type": "code",
   "execution_count": 11,
   "id": "e5285e72",
   "metadata": {},
   "outputs": [
    {
     "name": "stdout",
     "output_type": "stream",
     "text": [
      "The total hours spent in school from year 7 to year 11 is 960 hours.\n"
     ]
    }
   ],
   "source": [
    "# Define the number of school days in each school year\n",
    "days_in_each_school_year = 192\n",
    "\n",
    "# Calculate the total hours spent in school from year 7 to year 11\n",
    "total_hours = days_in_each_school_year * 5  # 5 school years (7 to 11) multiplied by days per year\n",
    "\n",
    "# Print the result\n",
    "print(f\"The total hours spent in school from year 7 to year 11 is {total_hours} hours.\")"
   ]
  },
  {
   "cell_type": "markdown",
   "id": "ad0b5b23",
   "metadata": {},
   "source": [
    "15. If the age of Ram, Sam and Khan are input through the keyboard,Write a python program to determine the eldest and youngest of the three."
   ]
  },
  {
   "cell_type": "code",
   "execution_count": 12,
   "id": "4c414fbd",
   "metadata": {},
   "outputs": [
    {
     "name": "stdout",
     "output_type": "stream",
     "text": [
      "Enter Ram's age: 23\n",
      "Enter Sam's age: 21\n",
      "Enter Khan's age: 24\n",
      "The eldest among Ram, Sam, and Khan is Khan.\n",
      "The youngest among Ram, Sam, and Khan is Sam.\n"
     ]
    }
   ],
   "source": [
    "# Get the ages of Ram, Sam, and Khan from the user\n",
    "ram_age = int(input(\"Enter Ram's age: \"))\n",
    "sam_age = int(input(\"Enter Sam's age: \"))\n",
    "khan_age = int(input(\"Enter Khan's age: \"))\n",
    "\n",
    "# Initialize variables to track the eldest and youngest\n",
    "eldest = youngest = \"\"\n",
    "\n",
    "# Compare ages to find the eldest and youngest\n",
    "if ram_age >= sam_age and ram_age >= khan_age:\n",
    "    eldest = \"Ram\"\n",
    "    if sam_age <= khan_age:\n",
    "        youngest = \"Sam\"\n",
    "    else:\n",
    "        youngest = \"Khan\"\n",
    "elif sam_age >= ram_age and sam_age >= khan_age:\n",
    "    eldest = \"Sam\"\n",
    "    if ram_age <= khan_age:\n",
    "        youngest = \"Ram\"\n",
    "    else:\n",
    "        youngest = \"Khan\"\n",
    "else:\n",
    "    eldest = \"Khan\"\n",
    "    if ram_age <= sam_age:\n",
    "        youngest = \"Ram\"\n",
    "    else:\n",
    "        youngest = \"Sam\"\n",
    "\n",
    "# Display the results\n",
    "print(f\"The eldest among Ram, Sam, and Khan is {eldest}.\")\n",
    "print(f\"The youngest among Ram, Sam, and Khan is {youngest}.\")"
   ]
  },
  {
   "cell_type": "markdown",
   "id": "678c80e6",
   "metadata": {},
   "source": [
    "16. Write a python program to rotate a list by right n times with and without slicing technique."
   ]
  },
  {
   "cell_type": "raw",
   "id": "16c1ea94",
   "metadata": {},
   "source": [
    "USING SLICING TECHNIQUE"
   ]
  },
  {
   "cell_type": "code",
   "execution_count": 13,
   "id": "50c6034c",
   "metadata": {},
   "outputs": [
    {
     "name": "stdout",
     "output_type": "stream",
     "text": [
      "Original List: [1, 2, 3, 4, 5]\n",
      "Rotated List: [4, 5, 1, 2, 3]\n"
     ]
    }
   ],
   "source": [
    "def rotate_right_with_slicing(lst, n):\n",
    "    n = n % len(lst)  # Ensure n is within the range of the list size\n",
    "    rotated_list = lst[-n:] + lst[:-n]\n",
    "    return rotated_list\n",
    "\n",
    "# Example usage:\n",
    "original_list = [1, 2, 3, 4, 5]\n",
    "n = 2\n",
    "rotated_list = rotate_right_with_slicing(original_list, n)\n",
    "print(f\"Original List: {original_list}\")\n",
    "print(f\"Rotated List: {rotated_list}\")"
   ]
  },
  {
   "cell_type": "raw",
   "id": "fea0a9ec",
   "metadata": {},
   "source": [
    "WITHOUT SLICING TECHNIQUE"
   ]
  },
  {
   "cell_type": "code",
   "execution_count": 14,
   "id": "f6f49bc9",
   "metadata": {},
   "outputs": [
    {
     "name": "stdout",
     "output_type": "stream",
     "text": [
      "Rotated List: [4, 5, 1, 2, 3]\n"
     ]
    }
   ],
   "source": [
    "def rotate_right_without_slicing(lst, n):\n",
    "    n = n % len(lst)  # Ensure n is within the range of the list size\n",
    "    for _ in range(n):\n",
    "        lst.insert(0, lst.pop())\n",
    "\n",
    "# Example usage:\n",
    "original_list = [1, 2, 3, 4, 5]\n",
    "n = 2\n",
    "rotate_right_without_slicing(original_list, n)\n",
    "print(f\"Rotated List: {original_list}\")"
   ]
  },
  {
   "cell_type": "markdown",
   "id": "dd2961be",
   "metadata": {},
   "source": [
    "17. Python program to print the patterns given below."
   ]
  },
  {
   "cell_type": "markdown",
   "id": "fcbebcd3",
   "metadata": {},
   "source": [
    "1\n",
    "1 1\n",
    "1 2 1\n",
    "1 3 3 1\n",
    "1 4 6 4 1\n",
    "1 5 10 10 5 1\n",
    "1 6 15 20 15 6 1"
   ]
  },
  {
   "cell_type": "code",
   "execution_count": 1,
   "id": "d13c2b32",
   "metadata": {},
   "outputs": [
    {
     "name": "stdout",
     "output_type": "stream",
     "text": [
      "1\n",
      "1 1\n",
      "1 2 1\n",
      "1 3 3 1\n",
      "1 4 6 4 1\n",
      "1 5 10 10 5 1\n",
      "1 6 15 20 15 6 1\n"
     ]
    }
   ],
   "source": [
    "def generate_pascals_triangle(n):\n",
    "    pascals_triangle = []\n",
    "    for line in range(0, n):\n",
    "        current_line = []\n",
    "        for i in range(0, line + 1):\n",
    "            if i == 0 or i == line:\n",
    "                current_line.append(1)\n",
    "            else:\n",
    "                current_line.append(pascals_triangle[line - 1][i - 1] + pascals_triangle[line - 1][i])\n",
    "        pascals_triangle.append(current_line)\n",
    "    return pascals_triangle\n",
    "\n",
    "def print_pascals_triangle(triangle):\n",
    "    for row in triangle:\n",
    "        print(\" \".join(map(str, row)))\n",
    "\n",
    "n = 7  # Change this value to the number of rows you want\n",
    "pascals_triangle = generate_pascals_triangle(n)\n",
    "print_pascals_triangle(pascals_triangle)"
   ]
  },
  {
   "cell_type": "code",
   "execution_count": null,
   "id": "b88cbefe",
   "metadata": {},
   "outputs": [],
   "source": [
    "def generate_pascals_triangle(n):\n",
    "    pascals_triangle = []\n",
    "    for line in range(0, n):\n",
    "        current_line = []\n",
    "        for i in range(0, line + 1):\n",
    "            if i == 0 or i == line:\n",
    "                current_line.append(1)\n",
    "            else:\n",
    "                current_line.append(pascals_triangle[line - 1][i - 1] + pascals_triangle[line - 1][i])\n",
    "        pascals_triangle.append(current_line)\n",
    "    return pascals_triangle\n",
    "\n",
    "def print_pascals_triangle(triangle):\n",
    "    for row in triangle:\n",
    "        print(\" \".join(map(str, row)))\n",
    "\n",
    "n = 7  # Change this value to the number of rows you want\n",
    "pascals_triangle = generate_pascals_triangle(n)\n",
    "print_pascals_triangle(pascals_triangle)"
   ]
  },
  {
   "cell_type": "raw",
   "id": "35ace3a7",
   "metadata": {},
   "source": [
    "*\n",
    "* *\n",
    "* * *\n",
    "* * * *\n",
    "* * * * * "
   ]
  },
  {
   "cell_type": "code",
   "execution_count": 2,
   "id": "ef00a2b9",
   "metadata": {},
   "outputs": [
    {
     "name": "stdout",
     "output_type": "stream",
     "text": [
      "* \n",
      "* * \n",
      "* * * \n",
      "* * * * \n",
      "* * * * * \n"
     ]
    }
   ],
   "source": [
    "# Number of rows in the pattern\n",
    "n = 5  # Change this value to adjust the number of rows\n",
    "\n",
    "# Loop to print the pattern\n",
    "for i in range(1, n + 1):\n",
    "    print(\"* \" * i)"
   ]
  },
  {
   "cell_type": "raw",
   "id": "74b52630",
   "metadata": {},
   "source": [
    "      *\n",
    "     * *\n",
    "    * * *\n",
    "   * * * * \n",
    "  * * * * * \n",
    " * * * * * *\n",
    "* * * * * * *"
   ]
  },
  {
   "cell_type": "code",
   "execution_count": 3,
   "id": "0782241a",
   "metadata": {},
   "outputs": [
    {
     "name": "stdout",
     "output_type": "stream",
     "text": [
      "     * \n",
      "    * * \n",
      "   * * * \n",
      "  * * * * \n",
      " * * * * * \n",
      "* * * * * * \n"
     ]
    }
   ],
   "source": [
    "# Number of rows in the pattern\n",
    "n = 6  # Change this value to adjust the number of rows\n",
    "\n",
    "# Loop to print the pattern\n",
    "for i in range(1, n + 1):\n",
    "    # Print spaces\n",
    "    for j in range(n - i):\n",
    "        print(\" \", end=\"\")\n",
    "    \n",
    "    # Print stars\n",
    "    for k in range(i):\n",
    "        print(\"* \", end=\"\")\n",
    "    \n",
    "    # Move to the next line\n",
    "    print()"
   ]
  },
  {
   "cell_type": "markdown",
   "id": "1bf3d40c",
   "metadata": {},
   "source": [
    "P\n",
    "Py\n",
    "Pyt\n",
    "Pyth\n",
    "Pytho\n",
    "Python"
   ]
  },
  {
   "cell_type": "code",
   "execution_count": 4,
   "id": "bc8bce8e",
   "metadata": {},
   "outputs": [
    {
     "name": "stdout",
     "output_type": "stream",
     "text": [
      "P\n",
      "Py\n",
      "Pyt\n",
      "Pyth\n",
      "Pytho\n",
      "Python\n"
     ]
    }
   ],
   "source": [
    "# Word to be printed\n",
    "word = \"Python\"\n",
    "\n",
    "# Loop to print the pattern\n",
    "for i in range(1, len(word) + 1):\n",
    "    print(word[:i])"
   ]
  }
 ],
 "metadata": {
  "kernelspec": {
   "display_name": "Python 3 (ipykernel)",
   "language": "python",
   "name": "python3"
  },
  "language_info": {
   "codemirror_mode": {
    "name": "ipython",
    "version": 3
   },
   "file_extension": ".py",
   "mimetype": "text/x-python",
   "name": "python",
   "nbconvert_exporter": "python",
   "pygments_lexer": "ipython3",
   "version": "3.11.4"
  }
 },
 "nbformat": 4,
 "nbformat_minor": 5
}
