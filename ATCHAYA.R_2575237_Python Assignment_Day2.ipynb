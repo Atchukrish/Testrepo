{
 "cells": [
  {
   "cell_type": "markdown",
   "id": "3e0b7780",
   "metadata": {},
   "source": [
    "1.Write a python Function to list even and odd numbers in a list."
   ]
  },
  {
   "cell_type": "code",
   "execution_count": 1,
   "id": "4c0fc880",
   "metadata": {},
   "outputs": [
    {
     "name": "stdout",
     "output_type": "stream",
     "text": [
      "Even numbers: [2, 4, 6, 8]\n",
      "Odd numbers: [1, 3, 5, 7, 9]\n"
     ]
    }
   ],
   "source": [
    "def separate_even_odd(numbers):\n",
    "    even_numbers = []\n",
    "    odd_numbers = []\n",
    "\n",
    "    for number in numbers:\n",
    "        if number % 2 == 0:\n",
    "            even_numbers.append(number)\n",
    "        else:\n",
    "            odd_numbers.append(number)\n",
    "\n",
    "    return even_numbers, odd_numbers\n",
    "\n",
    "# Example usage:\n",
    "numbers_list = [1, 2, 3, 4, 5, 6, 7, 8, 9]\n",
    "even, odd = separate_even_odd(numbers_list)\n",
    "\n",
    "print(\"Even numbers:\", even)\n",
    "print(\"Odd numbers:\", odd)"
   ]
  },
  {
   "cell_type": "markdown",
   "id": "913fe45c",
   "metadata": {},
   "source": [
    "2.Write and run a python program that asks the user to enter 8 integers(one at a time), and then prints out how many of those integers were even numbers. For example, if the user entered 19,6,9,20,13,7,6 and 1, then your program should print out 3 sice 3 of those numbers were even."
   ]
  },
  {
   "cell_type": "code",
   "execution_count": 2,
   "id": "45b5ba84",
   "metadata": {},
   "outputs": [
    {
     "name": "stdout",
     "output_type": "stream",
     "text": [
      "Enter integer 1: 45\n",
      "Enter integer 2: 12\n",
      "Enter integer 3: 67\n",
      "Enter integer 4: 98\n",
      "Enter integer 5: 43\n",
      "Enter integer 6: 23\n",
      "Enter integer 7: 87\n",
      "Enter integer 8: 66\n",
      "Number of even numbers entered: 3\n"
     ]
    }
   ],
   "source": [
    "# Initialize a variable to keep track of the count of even numbers\n",
    "even_count = 0\n",
    "\n",
    "# Ask the user to enter 8 integers one at a time\n",
    "for i in range(8):\n",
    "    try:\n",
    "        user_input = int(input(f\"Enter integer {i+1}: \"))\n",
    "        \n",
    "        # Check if the entered number is even\n",
    "        if user_input % 2 == 0:\n",
    "            even_count += 1\n",
    "    except ValueError:\n",
    "        print(\"Invalid input. Please enter an integer.\")\n",
    "\n",
    "# Print the count of even numbers\n",
    "print(f\"Number of even numbers entered: {even_count}\")"
   ]
  },
  {
   "cell_type": "raw",
   "id": "295444a6",
   "metadata": {},
   "source": [
    "3.Write a python program where you can take positive integer n, if n is even, divide it by 2 to get n/2. If n is odd, multiply it by 3 and add 1 to obtain 3n+1. Repeat the process until you reach 1."
   ]
  },
  {
   "cell_type": "code",
   "execution_count": 3,
   "id": "c6e2b942",
   "metadata": {},
   "outputs": [
    {
     "name": "stdout",
     "output_type": "stream",
     "text": [
      "Enter a positive integer: 56\n",
      "Collatz sequence: [56, 28, 14, 7, 22, 11, 34, 17, 52, 26, 13, 40, 20, 10, 5, 16, 8, 4, 2, 1]\n",
      "Length of the sequence: 20\n"
     ]
    }
   ],
   "source": [
    "def collatz_sequence(n):\n",
    "    sequence = [n]\n",
    "\n",
    "    while n != 1:\n",
    "        if n % 2 == 0:\n",
    "            n = n // 2\n",
    "        else:\n",
    "            n = 3 * n + 1\n",
    "        sequence.append(n)\n",
    "\n",
    "    return sequence\n",
    "\n",
    "# Input a positive integer from the user\n",
    "try:\n",
    "    n = int(input(\"Enter a positive integer: \"))\n",
    "    if n <= 0:\n",
    "        print(\"Please enter a positive integer greater than 0.\")\n",
    "    else:\n",
    "        result = collatz_sequence(n)\n",
    "        print(\"Collatz sequence:\", result)\n",
    "        print(\"Length of the sequence:\", len(result))\n",
    "except ValueError:\n",
    "    print(\"Invalid input. Please enter a positive integer.\")"
   ]
  },
  {
   "cell_type": "markdown",
   "id": "6f30549e",
   "metadata": {},
   "source": [
    "4.Write a python program to compute the sum of all the multiple of 3 or 5 below 500."
   ]
  },
  {
   "cell_type": "code",
   "execution_count": 4,
   "id": "e55497eb",
   "metadata": {},
   "outputs": [
    {
     "name": "stdout",
     "output_type": "stream",
     "text": [
      "The sum of multiples of 3 or 5 below 500 is: 57918\n"
     ]
    }
   ],
   "source": [
    "def sum_multiples_of_3_and_5(limit):\n",
    "    total_sum = 0\n",
    "    for number in range(limit):\n",
    "        if number % 3 == 0 or number % 5 == 0:\n",
    "            total_sum += number\n",
    "    return total_sum\n",
    "\n",
    "# Set the limit to 500 and calculate the sum\n",
    "limit = 500\n",
    "result = sum_multiples_of_3_and_5(limit)\n",
    "\n",
    "print(f\"The sum of multiples of 3 or 5 below {limit} is: {result}\")"
   ]
  },
  {
   "cell_type": "markdown",
   "id": "5f043e0a",
   "metadata": {},
   "source": [
    "5.To write a python program to find first 'n' prime numbers from a list of given numbers."
   ]
  },
  {
   "cell_type": "code",
   "execution_count": 6,
   "id": "3e7a5a3a",
   "metadata": {},
   "outputs": [
    {
     "name": "stdout",
     "output_type": "stream",
     "text": [
      "The first 5 prime numbers from the given list are: [2, 3, 5, 7, 11]\n"
     ]
    }
   ],
   "source": [
    "def is_prime(num):\n",
    "    if num <= 1:\n",
    "        return False\n",
    "    if num <= 3:\n",
    "        return True\n",
    "    if num % 2 == 0 or num % 3 == 0:\n",
    "        return False\n",
    "    i = 5\n",
    "    while i * i <= num:\n",
    "        if num % i == 0 or num % (i + 2) == 0:\n",
    "            return False\n",
    "        i += 6\n",
    "    return True\n",
    "\n",
    "def find_n_primes_from_list(numbers, n):\n",
    "    prime_numbers = []\n",
    "    for num in numbers:\n",
    "        if is_prime(num):\n",
    "            prime_numbers.append(num)\n",
    "            if len(prime_numbers) == n:\n",
    "                break\n",
    "    return prime_numbers\n",
    "\n",
    "# Example usage:\n",
    "given_numbers = [2, 3, 4, 5, 6, 7, 8, 9, 10, 11]  # List of given numbers\n",
    "n = 5  # Number of prime numbers to find\n",
    "\n",
    "prime_result = find_n_primes_from_list(given_numbers, n)\n",
    "print(f\"The first {n} prime numbers from the given list are: {prime_result}\")\n"
   ]
  },
  {
   "cell_type": "markdown",
   "id": "9a4d83bd",
   "metadata": {},
   "source": [
    "6.To write a python program to compute matrix multiplication."
   ]
  },
  {
   "cell_type": "code",
   "execution_count": 7,
   "id": "5c31c0b1",
   "metadata": {},
   "outputs": [
    {
     "name": "stdout",
     "output_type": "stream",
     "text": [
      "[58, 64]\n",
      "[139, 154]\n"
     ]
    }
   ],
   "source": [
    "def matrix_multiplication(matrix1, matrix2):\n",
    "    # Check if matrix multiplication is possible\n",
    "    if len(matrix1[0]) != len(matrix2):\n",
    "        return \"Matrix multiplication not possible. The number of columns in the first matrix must be equal to the number of rows in the second matrix.\"\n",
    "\n",
    "    # Initialize the result matrix with zeros\n",
    "    result = [[0 for _ in range(len(matrix2[0]))] for _ in range(len(matrix1))]\n",
    "\n",
    "    # Perform matrix multiplication\n",
    "    for i in range(len(matrix1)):\n",
    "        for j in range(len(matrix2[0])):\n",
    "            for k in range(len(matrix2)):\n",
    "                result[i][j] += matrix1[i][k] * matrix2[k][j]\n",
    "\n",
    "    return result\n",
    "\n",
    "# Example matrices\n",
    "matrix_A = [\n",
    "    [1, 2, 3],\n",
    "    [4, 5, 6],\n",
    "]\n",
    "\n",
    "matrix_B = [\n",
    "    [7, 8],\n",
    "    [9, 10],\n",
    "    [11, 12],\n",
    "]\n",
    "\n",
    "# Compute matrix multiplication\n",
    "result_matrix = matrix_multiplication(matrix_A, matrix_B)\n",
    "\n",
    "# Print the result matrix\n",
    "if isinstance(result_matrix, str):\n",
    "    print(result_matrix)\n",
    "else:\n",
    "    for row in result_matrix:\n",
    "        print(row)"
   ]
  },
  {
   "cell_type": "markdown",
   "id": "56de4ea4",
   "metadata": {},
   "source": [
    "7.Write a python function to count the number of vowels in a string."
   ]
  },
  {
   "cell_type": "code",
   "execution_count": 8,
   "id": "b304f7c4",
   "metadata": {},
   "outputs": [
    {
     "name": "stdout",
     "output_type": "stream",
     "text": [
      "Number of vowels: 3\n"
     ]
    }
   ],
   "source": [
    "def count_vowels(input_string):\n",
    "    # Define a set of vowels to check against\n",
    "    vowels = \"aeiouAEIOU\"\n",
    "\n",
    "    # Initialize a counter for vowels\n",
    "    vowel_count = 0\n",
    "\n",
    "    # Iterate through each character in the input string\n",
    "    for char in input_string:\n",
    "        if char in vowels:\n",
    "            vowel_count += 1\n",
    "\n",
    "    return vowel_count\n",
    "\n",
    "# Example usage:\n",
    "input_string = \"Hello, World!\"\n",
    "result = count_vowels(input_string)\n",
    "print(\"Number of vowels:\", result)"
   ]
  },
  {
   "cell_type": "markdown",
   "id": "2f450c1b",
   "metadata": {},
   "source": [
    "8.Write a python function for finding factorial for the given number using a recursive function."
   ]
  },
  {
   "cell_type": "code",
   "execution_count": 9,
   "id": "c83da00d",
   "metadata": {},
   "outputs": [
    {
     "name": "stdout",
     "output_type": "stream",
     "text": [
      "The factorial of 5 is 120\n"
     ]
    }
   ],
   "source": [
    "def factorial_recursive(n):\n",
    "    if n == 0:\n",
    "        return 1\n",
    "    else:\n",
    "        return n * factorial_recursive(n - 1)\n",
    "\n",
    "# Example usage:\n",
    "number = 5\n",
    "result = factorial_recursive(number)\n",
    "print(f\"The factorial of {number} is {result}\")"
   ]
  },
  {
   "cell_type": "markdown",
   "id": "0912b637",
   "metadata": {},
   "source": [
    "9.Write a python function for generating the Fibonacci series using the function."
   ]
  },
  {
   "cell_type": "code",
   "execution_count": 10,
   "id": "5112bea7",
   "metadata": {},
   "outputs": [
    {
     "name": "stdout",
     "output_type": "stream",
     "text": [
      "Fibonacci series: [0, 1, 1, 2, 3, 5, 8, 13, 21, 34]\n"
     ]
    }
   ],
   "source": [
    "def fibonacci_recursive(n):\n",
    "    if n <= 0:\n",
    "        return []\n",
    "    elif n == 1:\n",
    "        return [0]\n",
    "    elif n == 2:\n",
    "        return [0, 1]\n",
    "    else:\n",
    "        fib_series = fibonacci_recursive(n - 1)\n",
    "        fib_series.append(fib_series[-1] + fib_series[-2])\n",
    "        return fib_series\n",
    "\n",
    "# Example usage:\n",
    "num_terms = 10  # Change this to the number of Fibonacci terms you want\n",
    "fibonacci_series = fibonacci_recursive(num_terms)\n",
    "print(\"Fibonacci series:\", fibonacci_series)"
   ]
  },
  {
   "cell_type": "markdown",
   "id": "e221bc9d",
   "metadata": {},
   "source": [
    "10.Python program to display the given integer in reverse order using the function without an in-built function."
   ]
  },
  {
   "cell_type": "code",
   "execution_count": 11,
   "id": "ccc777d8",
   "metadata": {},
   "outputs": [
    {
     "name": "stdout",
     "output_type": "stream",
     "text": [
      "Original number: 12345\n",
      "Reversed number: 54321\n"
     ]
    }
   ],
   "source": [
    "def reverse_integer(number):\n",
    "    reversed_num = 0\n",
    "\n",
    "    while number > 0:\n",
    "        digit = number % 10\n",
    "        reversed_num = reversed_num * 10 + digit\n",
    "        number = number // 10\n",
    "\n",
    "    return reversed_num\n",
    "\n",
    "# Example usage:\n",
    "input_number = 12345\n",
    "reversed_number = reverse_integer(input_number)\n",
    "print(f\"Original number: {input_number}\")\n",
    "print(f\"Reversed number: {reversed_number}\")"
   ]
  },
  {
   "cell_type": "markdown",
   "id": "1c515213",
   "metadata": {},
   "source": [
    "11.Write a python function to display all integers within the range 200-300 whose sum of digits is an even number."
   ]
  },
  {
   "cell_type": "code",
   "execution_count": 12,
   "id": "33e2585f",
   "metadata": {},
   "outputs": [
    {
     "name": "stdout",
     "output_type": "stream",
     "text": [
      "Numbers in the range 200-300 with even digit sum: [200, 202, 204, 206, 208, 211, 213, 215, 217, 219, 220, 222, 224, 226, 228, 231, 233, 235, 237, 239, 240, 242, 244, 246, 248, 251, 253, 255, 257, 259, 260, 262, 264, 266, 268, 271, 273, 275, 277, 279, 280, 282, 284, 286, 288, 291, 293, 295, 297, 299]\n"
     ]
    }
   ],
   "source": [
    "def sum_of_digits_even(num):\n",
    "    # Calculate the sum of the digits of the number\n",
    "    digit_sum = sum(int(digit) for digit in str(num))\n",
    "    \n",
    "    # Check if the sum of digits is even\n",
    "    return digit_sum % 2 == 0\n",
    "\n",
    "def find_numbers_with_even_digit_sum(start, end):\n",
    "    result = []\n",
    "    for num in range(start, end + 1):\n",
    "        if sum_of_digits_even(num):\n",
    "            result.append(num)\n",
    "    return result\n",
    "\n",
    "# Define the range\n",
    "start_range = 200\n",
    "end_range = 300\n",
    "\n",
    "# Find and display numbers within the range with even digit sum\n",
    "even_digit_sum_numbers = find_numbers_with_even_digit_sum(start_range, end_range)\n",
    "print(\"Numbers in the range 200-300 with even digit sum:\", even_digit_sum_numbers)"
   ]
  },
  {
   "cell_type": "markdown",
   "id": "4f519546",
   "metadata": {},
   "source": [
    "12.Write a python function to find the number of digits and sum of digits for a given integer."
   ]
  },
  {
   "cell_type": "code",
   "execution_count": 13,
   "id": "71857a0d",
   "metadata": {},
   "outputs": [
    {
     "name": "stdout",
     "output_type": "stream",
     "text": [
      "Number of digits: 5\n",
      "Sum of digits: 15\n"
     ]
    }
   ],
   "source": [
    "def find_number_of_digits_and_sum(number):\n",
    "    # Convert the number to a string to find the number of digits\n",
    "    num_str = str(number)\n",
    "\n",
    "    # Calculate the number of digits\n",
    "    num_digits = len(num_str)\n",
    "\n",
    "    # Calculate the sum of digits\n",
    "    digit_sum = sum(int(digit) for digit in num_str)\n",
    "\n",
    "    return num_digits, digit_sum\n",
    "\n",
    "# Example usage:\n",
    "input_number = 12345\n",
    "num_digits, digit_sum = find_number_of_digits_and_sum(input_number)\n",
    "print(f\"Number of digits: {num_digits}\")\n",
    "print(f\"Sum of digits: {digit_sum}\")"
   ]
  },
  {
   "cell_type": "markdown",
   "id": "cb3e8153",
   "metadata": {},
   "source": [
    "13.Write functions called is _sorted that takes a list as a parameter and returns True. If the list is sorted in ascending order and False otherwise and has_ duplicates that takes a list and returns Trueif there is any element that appears more than once.It should not modify the original list."
   ]
  },
  {
   "cell_type": "code",
   "execution_count": 14,
   "id": "244b966c",
   "metadata": {},
   "outputs": [
    {
     "name": "stdout",
     "output_type": "stream",
     "text": [
      "is_sorted(sorted_list): True\n",
      "is_sorted(unsorted_list): False\n",
      "has_duplicates(sorted_list): False\n",
      "has_duplicates(list_with_duplicates): True\n"
     ]
    }
   ],
   "source": [
    "def is_sorted(arr):\n",
    "    # Check if the list is sorted in ascending order\n",
    "    return all(arr[i] <= arr[i + 1] for i in range(len(arr) - 1))\n",
    "\n",
    "def has_duplicates(arr):\n",
    "    # Create a set to store unique elements\n",
    "    unique_elements = set()\n",
    "\n",
    "    # Iterate through the list\n",
    "    for element in arr:\n",
    "        if element in unique_elements:\n",
    "            return True\n",
    "        unique_elements.add(element)\n",
    "\n",
    "    return False\n",
    "\n",
    "# Example usage:\n",
    "sorted_list = [1, 2, 3, 4, 5]\n",
    "unsorted_list = [3, 1, 4, 1, 5]\n",
    "list_with_duplicates = [1, 2, 2, 3, 4]\n",
    "\n",
    "print(\"is_sorted(sorted_list):\", is_sorted(sorted_list))  # Should print True\n",
    "print(\"is_sorted(unsorted_list):\", is_sorted(unsorted_list))  # Should print False\n",
    "\n",
    "print(\"has_duplicates(sorted_list):\", has_duplicates(sorted_list))  # Should print False\n",
    "print(\"has_duplicates(list_with_duplicates):\", has_duplicates(list_with_duplicates))  # Should print True"
   ]
  },
  {
   "cell_type": "markdown",
   "id": "44369702",
   "metadata": {},
   "source": [
    "14.Write functions called nested_sum that takes a list of integers and adds up the elements from all the nested lists and cumsum that takes a list of numbers and returns the cumulative sum ; that is, a new list where the i th element is the sum of the first i+1 elements from the original list."
   ]
  },
  {
   "cell_type": "code",
   "execution_count": 15,
   "id": "f71d8cba",
   "metadata": {},
   "outputs": [
    {
     "name": "stdout",
     "output_type": "stream",
     "text": [
      "Nested Sum: 28\n",
      "Cumulative Sum: [1, 3, 6, 10, 15]\n"
     ]
    }
   ],
   "source": [
    "def nested_sum(lst):\n",
    "    total = 0\n",
    "    for item in lst:\n",
    "        if isinstance(item, list):\n",
    "            total += nested_sum(item)  # Recursively sum nested lists\n",
    "        else:\n",
    "            total += item  # Add non-list items to the total\n",
    "    return total\n",
    "\n",
    "def cumsum(numbers):\n",
    "    cumulative_sum = []\n",
    "    current_sum = 0\n",
    "    for num in numbers:\n",
    "        current_sum += num\n",
    "        cumulative_sum.append(current_sum)\n",
    "    return cumulative_sum\n",
    "\n",
    "# Example usage:\n",
    "nested_list = [1, 2, [3, 4], [5, [6, 7]]]\n",
    "numbers_list = [1, 2, 3, 4, 5]\n",
    "\n",
    "result_nested_sum = nested_sum(nested_list)\n",
    "print(\"Nested Sum:\", result_nested_sum)  # Should print 28\n",
    "\n",
    "result_cumsum = cumsum(numbers_list)\n",
    "print(\"Cumulative Sum:\", result_cumsum)  # Should print [1, 3, 6, 10, 15]"
   ]
  }
 ],
 "metadata": {
  "kernelspec": {
   "display_name": "Python 3 (ipykernel)",
   "language": "python",
   "name": "python3"
  },
  "language_info": {
   "codemirror_mode": {
    "name": "ipython",
    "version": 3
   },
   "file_extension": ".py",
   "mimetype": "text/x-python",
   "name": "python",
   "nbconvert_exporter": "python",
   "pygments_lexer": "ipython3",
   "version": "3.11.4"
  }
 },
 "nbformat": 4,
 "nbformat_minor": 5
}
