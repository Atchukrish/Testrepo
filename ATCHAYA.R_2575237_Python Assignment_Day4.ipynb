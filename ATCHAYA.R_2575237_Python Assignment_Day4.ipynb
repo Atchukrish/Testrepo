{
 "cells": [
  {
   "cell_type": "markdown",
   "id": "2b376bb9",
   "metadata": {},
   "source": [
    "1.Write a python program with exception handling to input marks for five subjects Physics, Chemistry, Biology, Mathematics and Computer.Calculate the percentage and grade according in the following.\n",
    "* Percentage >= 90% : Grade A\n",
    "* Percentage >= 80% : Grade B\n",
    "* Percentage >= 70% : Grade C\n",
    "* Percentage >= 60% : Grade D\n",
    "* Percentage >= 40% : Grade E\n",
    "* Percentage < 40% : Grade F"
   ]
  },
  {
   "cell_type": "code",
   "execution_count": 1,
   "id": "45577807",
   "metadata": {},
   "outputs": [
    {
     "name": "stdout",
     "output_type": "stream",
     "text": [
      "Enter Physics marks: 60\n",
      "Enter Chemistry marks: 70\n",
      "Enter Biology marks: 40\n",
      "Enter Mathematics marks: 100\n",
      "Enter Computer marks: 30\n",
      "Total Marks: 300.0\n",
      "Percentage: 60.00%\n",
      "Grade: D\n"
     ]
    }
   ],
   "source": [
    "try:\n",
    "    # Input marks for five subjects\n",
    "    physics = float(input(\"Enter Physics marks: \"))\n",
    "    chemistry = float(input(\"Enter Chemistry marks: \"))\n",
    "    biology = float(input(\"Enter Biology marks: \"))\n",
    "    mathematics = float(input(\"Enter Mathematics marks: \"))\n",
    "    computer = float(input(\"Enter Computer marks: \"))\n",
    "\n",
    "    # Calculate total marks and percentage\n",
    "    total_marks = physics + chemistry + biology + mathematics + computer\n",
    "    percentage = (total_marks / 500) * 100\n",
    "\n",
    "    # Determine the grade\n",
    "    if percentage >= 90:\n",
    "        grade = 'A'\n",
    "    elif percentage >= 80:\n",
    "        grade = 'B'\n",
    "    elif percentage >= 70:\n",
    "        grade = 'C'\n",
    "    elif percentage >= 60:\n",
    "        grade = 'D'\n",
    "    elif percentage >= 40:\n",
    "        grade = 'E'\n",
    "    else:\n",
    "        grade = 'F'\n",
    "\n",
    "    # Display the result\n",
    "    print(f\"Total Marks: {total_marks}\")\n",
    "    print(f\"Percentage: {percentage:.2f}%\")\n",
    "    print(f\"Grade: {grade}\")\n",
    "\n",
    "except ValueError:\n",
    "    print(\"Invalid input! Please enter valid numeric marks for all subjects.\")\n",
    "except Exception as e:\n",
    "    print(f\"An error occurred: {e}\")"
   ]
  },
  {
   "cell_type": "markdown",
   "id": "80ba1bd6",
   "metadata": {},
   "source": [
    "2.Write a python program with exception handling to input electricity unit charges and calculate the total electricity bill according to the given condition:\n",
    "* For the first 50 units Rs.0.50/unit\n",
    "* For the next 100 units Rs.0.75/unit\n",
    "* For the next 100 units Rs.1.20/unit \n",
    "* For the units above 250 Rs.1.50/unit\n",
    "* An additional surcharge of 20% is added to the bill."
   ]
  },
  {
   "cell_type": "code",
   "execution_count": 2,
   "id": "b045119b",
   "metadata": {},
   "outputs": [
    {
     "name": "stdout",
     "output_type": "stream",
     "text": [
      "Enter electricity unit charges: 170\n",
      "Total Electricity Bill: Rs. 148.80\n"
     ]
    }
   ],
   "source": [
    "try:\n",
    "    # Input electricity unit charges\n",
    "    units = float(input(\"Enter electricity unit charges: \"))\n",
    "\n",
    "    if units < 0:\n",
    "        raise ValueError(\"Units cannot be negative.\")\n",
    "\n",
    "    # Calculate the total electricity bill\n",
    "    if units <= 50:\n",
    "        total_bill = units * 0.50\n",
    "    elif units <= 150:\n",
    "        total_bill = 50 * 0.50 + (units - 50) * 0.75\n",
    "    elif units <= 250:\n",
    "        total_bill = 50 * 0.50 + 100 * 0.75 + (units - 150) * 1.20\n",
    "    else:\n",
    "        total_bill = 50 * 0.50 + 100 * 0.75 + 100 * 1.20 + (units - 250) * 1.50\n",
    "\n",
    "    # Calculate surcharge\n",
    "    surcharge = 0.20 * total_bill\n",
    "\n",
    "    # Calculate the final total bill including surcharge\n",
    "    total_bill += surcharge\n",
    "\n",
    "    # Display the result\n",
    "    print(f\"Total Electricity Bill: Rs. {total_bill:.2f}\")\n",
    "\n",
    "except ValueError as ve:\n",
    "    print(f\"Error: {ve}\")\n",
    "except Exception as e:\n",
    "    print(f\"An error occurred: {e}\")"
   ]
  },
  {
   "cell_type": "markdown",
   "id": "71937a1e",
   "metadata": {},
   "source": [
    "3.Write a python program with exception handling to input the week number and print the weekday."
   ]
  },
  {
   "cell_type": "code",
   "execution_count": 3,
   "id": "d83776d7",
   "metadata": {},
   "outputs": [
    {
     "name": "stdout",
     "output_type": "stream",
     "text": [
      "Enter the week number (1-7): 6\n",
      "Weekday for week number 6 is Saturday\n"
     ]
    }
   ],
   "source": [
    "try:\n",
    "    # Input the week number\n",
    "    week_number = int(input(\"Enter the week number (1-7): \"))\n",
    "\n",
    "    # Check if the input is within the valid range (1-7)\n",
    "    if 1 <= week_number <= 7:\n",
    "        # Define a list of weekdays\n",
    "        weekdays = [\"Monday\", \"Tuesday\", \"Wednesday\", \"Thursday\", \"Friday\", \"Saturday\", \"Sunday\"]\n",
    "\n",
    "        # Print the corresponding weekday\n",
    "        print(f\"Weekday for week number {week_number} is {weekdays[week_number - 1]}\")\n",
    "    else:\n",
    "        print(\"Invalid input! Week number should be between 1 and 7.\")\n",
    "\n",
    "except ValueError:\n",
    "    print(\"Invalid input! Please enter a valid week number (1-7).\")\n",
    "except Exception as e:\n",
    "    print(f\"An error occurred: {e}\")"
   ]
  },
  {
   "cell_type": "markdown",
   "id": "4118173b",
   "metadata": {},
   "source": [
    "4.Write a python program to implement word count using Command line arguments.\n",
    "* Create a text document \"apple.txt\" which contains text for wordcount.\n",
    "* Create a wordcount program which calls the \"apple.txt\" document by opening the file.\n",
    "* If the word is present again in the \"apple.txt\" , the wordcount is incremented by 1 until all the words are counted in the document.\n",
    "* Close the file.\n",
    "* Create a command.py program which imports the wordcount.py program.\n",
    "* Count the number of words using command line arguments.\n",
    "* Print each word and count."
   ]
  },
  {
   "cell_type": "code",
   "execution_count": null,
   "id": "5106b52c",
   "metadata": {},
   "outputs": [],
   "source": [
    "# wordcount.py\n",
    "\n",
    "def count_words(file_name):\n",
    "    try:\n",
    "        with open(file_name, 'r') as file:\n",
    "            text = file.read()\n",
    "            words = text.split()\n",
    "            word_count = {}\n",
    "            \n",
    "            for word in words:\n",
    "                word = word.strip(\".,!?()[]{}\")\n",
    "                word = word.lower()\n",
    "                if word:\n",
    "                    if word in word_count:\n",
    "                        word_count[word] += 1\n",
    "                    else:\n",
    "                        word_count[word] = 1\n",
    "            \n",
    "            return word_count\n",
    "\n",
    "    except FileNotFoundError:\n",
    "        print(f\"File '{file_name}' not found.\")\n",
    "        return {}\n",
    "\n",
    "if __name__ == \"__main__\":\n",
    "    file_name = \"apple.txt\"\n",
    "    word_count = count_words(file_name)\n",
    "    for word, count in word_count.items():\n",
    "        print(f\"{word}: {count}\")"
   ]
  },
  {
   "cell_type": "code",
   "execution_count": null,
   "id": "90bb9489",
   "metadata": {},
   "outputs": [],
   "source": [
    "# command.py\n",
    "import sys\n",
    "from wordcount import count_words\n",
    "\n",
    "def main():\n",
    "    if len(sys.argv) != 2:\n",
    "        print(\"Usage: python command.py <file_name>\")\n",
    "        sys.exit(1)\n",
    "    \n",
    "    file_name = sys.argv[1]\n",
    "    word_count = count_words(file_name)\n",
    "    \n",
    "    for word, count in word_count.items():\n",
    "        print(f\"{word}: {count}\")\n",
    "\n",
    "if __name__ == \"__main__\":\n",
    "    main()"
   ]
  },
  {
   "cell_type": "code",
   "execution_count": null,
   "id": "3055087c",
   "metadata": {},
   "outputs": [],
   "source": [
    "python command.py apple.txtc"
   ]
  },
  {
   "cell_type": "markdown",
   "id": "fff089f0",
   "metadata": {},
   "source": [
    "5.Write a python program for finding the most frequent words in a text read file.\n",
    "* open a file initially in read mode.\n",
    "* Make all the letters in the document in lowercase and split the words in each line\n",
    "* Get the words in the order\n",
    "* Set the words for finding the most frequent words in the file.\n",
    "* print the most frequent words in the file."
   ]
  },
  {
   "cell_type": "code",
   "execution_count": null,
   "id": "24f87dae",
   "metadata": {},
   "outputs": [],
   "source": [
    "from collections import Counter\n",
    "\n",
    "def find_most_frequent_words(file_name, num_words=10):\n",
    "    try:\n",
    "        with open(file_name, 'r') as file:\n",
    "            text = file.read().lower()  # Read and convert to lowercase\n",
    "            words = text.split()  # Split into words\n",
    "            \n",
    "            word_count = Counter(words)  # Count word frequency\n",
    "            \n",
    "            # Find the most common words\n",
    "            most_common_words = word_count.most_common(num_words)\n",
    "            \n",
    "            return most_common_words\n",
    "\n",
    "    except FileNotFoundError:\n",
    "        print(f\"File '{file_name}' not found.\")\n",
    "        return []\n",
    "\n",
    "if __name__ == \"__main__\":\n",
    "    file_name = \"your_text_file.txt\"  # Replace with your file's name\n",
    "    num_words_to_display = 10  # Change this value to display more or fewer words\n",
    "    most_frequent_words = find_most_frequent_words(file_name, num_words_to_display)\n",
    "    \n",
    "    if most_frequent_words:\n",
    "        print(f\"Most frequent words in '{file_name}':\")\n",
    "        for word, count in most_frequent_words:\n",
    "            print(f\"{word}: {count}\")\n",
    "    else:\n",
    "        print(\"No frequent words found in the file.\")"
   ]
  },
  {
   "cell_type": "markdown",
   "id": "30d2d308",
   "metadata": {},
   "source": [
    "6.Write a python program for finding the most frequent words in a text read file.\n",
    "* open a file initially in read mode.\n",
    "* Make all the letters in the document in lowercase and split the words in each line\n",
    "* Get the words in the order\n",
    "* Set the words for finding the most frequent words in the file.\n",
    "* print the most frequent words in the file."
   ]
  },
  {
   "cell_type": "code",
   "execution_count": null,
   "id": "5e40ed38",
   "metadata": {},
   "outputs": [],
   "source": [
    "from collections import Counter\n",
    "\n",
    "def find_most_frequent_words(file_name, num_words=10):\n",
    "    try:\n",
    "        with open(file_name, 'r') as file:\n",
    "            text = file.read().lower()  # Read and convert to lowercase\n",
    "            words = text.split()  # Split into words\n",
    "            \n",
    "            word_count = Counter(words)  # Count word frequency\n",
    "            \n",
    "            # Find the most common words\n",
    "            most_common_words = word_count.most_common(num_words)\n",
    "            \n",
    "            return most_common_words\n",
    "\n",
    "    except FileNotFoundError:\n",
    "        print(f\"File '{file_name}' not found.\")\n",
    "        return []\n",
    "\n",
    "if __name__ == \"__main__\":\n",
    "    file_name = \"your_text_file.txt\"  # Replace with your file's name\n",
    "    num_words_to_display = 10  # Change this value to display more or fewer words\n",
    "    most_frequent_words = find_most_frequent_words(file_name, num_words_to_display)\n",
    "    \n",
    "    if most_frequent_words:\n",
    "        print(f\"Most frequent words in '{file_name}':\")\n",
    "        for word, count in most_frequent_words:\n",
    "            print(f\"{word}: {count}\")\n",
    "    else:\n",
    "        print(\"No frequent words found in the file.\")\n"
   ]
  }
 ],
 "metadata": {
  "kernelspec": {
   "display_name": "Python 3 (ipykernel)",
   "language": "python",
   "name": "python3"
  },
  "language_info": {
   "codemirror_mode": {
    "name": "ipython",
    "version": 3
   },
   "file_extension": ".py",
   "mimetype": "text/x-python",
   "name": "python",
   "nbconvert_exporter": "python",
   "pygments_lexer": "ipython3",
   "version": "3.11.4"
  }
 },
 "nbformat": 4,
 "nbformat_minor": 5
}
