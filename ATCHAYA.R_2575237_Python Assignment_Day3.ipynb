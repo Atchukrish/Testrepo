{
 "cells": [
  {
   "cell_type": "markdown",
   "id": "56b6a5ae",
   "metadata": {},
   "source": [
    "1.Write a python function that copies a file reading and writing up to 50 characters at a time."
   ]
  },
  {
   "cell_type": "code",
   "execution_count": 2,
   "id": "570961a8",
   "metadata": {},
   "outputs": [
    {
     "name": "stdout",
     "output_type": "stream",
     "text": [
      "File 'source.txt' copied to 'destination.txt' successfully.\n"
     ]
    }
   ],
   "source": [
    "def copy_file_with_limit(source_file_path, destination_file_path):\n",
    "    try:\n",
    "        with open(source_file_path, 'rb') as source_file, open(destination_file_path, 'wb') as dest_file:\n",
    "            while True:\n",
    "                chunk = source_file.read(50)  # Read up to 50 bytes at a time\n",
    "                if not chunk:\n",
    "                    break  # End of file\n",
    "                dest_file.write(chunk)\n",
    "        print(f\"File '{source_file_path}' copied to '{destination_file_path}' successfully.\")\n",
    "    except FileNotFoundError:\n",
    "        print(\"File not found.\")\n",
    "    except Exception as e:\n",
    "        print(f\"An error occurred: {str(e)}\")\n",
    "\n",
    "# Example usage:\n",
    "source_file_path = 'source.txt'  # Replace with the path to your source file\n",
    "destination_file_path = 'destination.txt'  # Replace with the desired destination path\n",
    "\n",
    "copy_file_with_limit(source_file_path, destination_file_path)\n"
   ]
  },
  {
   "cell_type": "markdown",
   "id": "39d12643",
   "metadata": {},
   "source": [
    "2.Print all numbers present in the text file and print the number of blank spaces in the file."
   ]
  },
  {
   "cell_type": "code",
   "execution_count": 4,
   "id": "9410b56b",
   "metadata": {},
   "outputs": [
    {
     "name": "stdout",
     "output_type": "stream",
     "text": [
      "Sample text file 'sample.txt' created successfully.\n",
      "Numbers in the file: [123, 456, 789]\n",
      "Number of blank spaces in the file: 0\n"
     ]
    }
   ],
   "source": [
    "def create_sample_text_file(file_path):\n",
    "    try:\n",
    "        with open(file_path, 'w') as file:\n",
    "            file.write(\"This is a sample text file with some numbers.\\n\")\n",
    "            file.write(\"123 456 789\\n\")\n",
    "            file.write(\"There are also spaces in this text.   \\n\")\n",
    "        print(f\"Sample text file '{file_path}' created successfully.\")\n",
    "    except Exception as e:\n",
    "        print(f\"An error occurred: {str(e)}\")\n",
    "\n",
    "def extract_numbers_and_count_spaces(file_path):\n",
    "    numbers = []\n",
    "    space_count = 0\n",
    "\n",
    "    try:\n",
    "        with open(file_path, 'r') as file:\n",
    "            for line in file:\n",
    "                # Split each line by whitespace to find numbers and spaces\n",
    "                words = line.split()\n",
    "                for word in words:\n",
    "                    if word.isdigit():\n",
    "                        numbers.append(int(word))  # Assuming integers\n",
    "                    else:\n",
    "                        space_count += word.count(' ')\n",
    "\n",
    "        print(f\"Numbers in the file: {numbers}\")\n",
    "        print(f\"Number of blank spaces in the file: {space_count}\")\n",
    "    except FileNotFoundError:\n",
    "        print(\"File not found.\")\n",
    "    except Exception as e:\n",
    "        print(f\"An error occurred: {str(e)}\")\n",
    "\n",
    "# Example usage to create the sample file:\n",
    "sample_file_path = 'sample.txt'\n",
    "create_sample_text_file(sample_file_path)\n",
    "\n",
    "# Example usage to extract numbers and count spaces from the sample file:\n",
    "extract_numbers_and_count_spaces(sample_file_path)"
   ]
  },
  {
   "cell_type": "markdown",
   "id": "0a1fb9a6",
   "metadata": {},
   "source": [
    "3.Write a function called sed that takes as arguments a pattern string, a replacement string, and two filenames; it should read the first file and write the contents into the second file (creating it if necessary).If the pattern string appears anywhere in the file, it shold be replaced with the replacement string.If an error occurs while opening, reading, writing or closing files, your program should catch the exception,print an error message and exit."
   ]
  },
  {
   "cell_type": "code",
   "execution_count": 6,
   "id": "7aedd3f8",
   "metadata": {},
   "outputs": [
    {
     "name": "stdout",
     "output_type": "stream",
     "text": [
      "Sample input file 'input.txt' created successfully.\n",
      "File 'input.txt' processed successfully. Results written to 'output.txt'.\n"
     ]
    }
   ],
   "source": [
    "def create_sample_input_file(file_path):\n",
    "    try:\n",
    "        with open(file_path, 'w') as file:\n",
    "            file.write(\"This is a sample input file with some old_pattern.\\n\")\n",
    "            file.write(\"You can replace old_pattern with new_pattern.\\n\")\n",
    "        print(f\"Sample input file '{file_path}' created successfully.\")\n",
    "    except Exception as e:\n",
    "        print(f\"An error occurred: {str(e)}\")\n",
    "\n",
    "def sed(pattern, replacement, source_file, destination_file):\n",
    "    try:\n",
    "        with open(source_file, 'r') as source, open(destination_file, 'w') as dest:\n",
    "            for line in source:\n",
    "                modified_line = line.replace(pattern, replacement)\n",
    "                dest.write(modified_line)\n",
    "        print(f\"File '{source_file}' processed successfully. Results written to '{destination_file}'.\")\n",
    "    except FileNotFoundError:\n",
    "        print(f\"Error: File '{source_file}' not found.\")\n",
    "    except Exception as e:\n",
    "        print(f\"An error occurred: {str(e)}\")\n",
    "\n",
    "# Example usage to create the sample input file:\n",
    "sample_input_file = 'input.txt'\n",
    "create_sample_input_file(sample_input_file)\n",
    "\n",
    "# Example usage to perform search and replace:\n",
    "pattern = 'old_pattern'\n",
    "replacement = 'new_pattern'\n",
    "source_file = 'input.txt'\n",
    "destination_file = 'output.txt'\n",
    "\n",
    "sed(pattern, replacement, source_file, destination_file)"
   ]
  },
  {
   "cell_type": "markdown",
   "id": "19dc919c",
   "metadata": {},
   "source": [
    "4. Log Files Analysis : You have a log file containing records of user activities on a website. Each line in the file represents a log entry with details like timestamp, user ID, and action performed.Your task is to analyze this log file.\n",
    "a. Write a python code to read the log file and extract specific information, such as the number of unique users or the most common action.\n",
    "b. How would you handle large log files efficiently without loading the entire file into memory?"
   ]
  },
  {
   "cell_type": "markdown",
   "id": "f2d127fb",
   "metadata": {},
   "source": [
    "5. Text File search and Replace: You have a text file with a large amount of text, and you want to search for specific words or phrasesand replace them with new content.\n",
    "a. Write a python code to search for and replace text within a text file.\n",
    "b. How would you handle cases where you need to perform multiple replacements in a single pass?"
   ]
  },
  {
   "cell_type": "code",
   "execution_count": 10,
   "id": "df1de694",
   "metadata": {},
   "outputs": [
    {
     "name": "stdout",
     "output_type": "stream",
     "text": [
      "Search and replace completed. Results written to 'output.txt'.\n"
     ]
    }
   ],
   "source": [
    "import re\n",
    "\n",
    "def search_replace_in_file(input_file, output_file, search_pattern, replace_text):\n",
    "    try:\n",
    "        with open(input_file, 'r') as file:\n",
    "            content = file.read()\n",
    "\n",
    "        # Perform the search and replace using regular expressions\n",
    "        modified_content = re.sub(search_pattern, replace_text, content)\n",
    "\n",
    "        with open(output_file, 'w') as file:\n",
    "            file.write(modified_content)\n",
    "\n",
    "        print(f\"Search and replace completed. Results written to '{output_file}'.\")\n",
    "    except FileNotFoundError:\n",
    "        print(f\"Error: File '{input_file}' not found.\")\n",
    "    except PermissionError:\n",
    "        print(f\"Error: Permission denied. Unable to read or write to the files.\")\n",
    "    except Exception as e:\n",
    "        print(f\"An error occurred: {str(e)}\")\n",
    "\n",
    "# Example usage:\n",
    "input_file = 'input.txt'\n",
    "output_file = 'output.txt'\n",
    "search_pattern = r'old_text'\n",
    "replace_text = 'new_text'\n",
    "\n",
    "search_replace_in_file(input_file, output_file, search_pattern, replace_text)"
   ]
  },
  {
   "cell_type": "code",
   "execution_count": 11,
   "id": "4056fd9f",
   "metadata": {},
   "outputs": [
    {
     "name": "stdout",
     "output_type": "stream",
     "text": [
      "Multiple search and replace completed. Results written to 'output.txt'.\n"
     ]
    }
   ],
   "source": [
    "import re\n",
    "\n",
    "def custom_replace(match):\n",
    "    word = match.group()\n",
    "    if word == 'old_text1':\n",
    "        return 'new_text1'\n",
    "    elif word == 'old_text2':\n",
    "        return 'new_text2'\n",
    "    # Add more replacement cases as needed\n",
    "\n",
    "def search_replace_multiple_in_file(input_file, output_file):\n",
    "    try:\n",
    "        with open(input_file, 'r') as file:\n",
    "            content = file.read()\n",
    "\n",
    "        # Define a regular expression pattern to match multiple words or phrases\n",
    "        search_pattern = r'old_text1|old_text2|old_text3'\n",
    "\n",
    "        # Perform the search and replace using the custom_replace function\n",
    "        modified_content = re.sub(search_pattern, custom_replace, content)\n",
    "\n",
    "        with open(output_file, 'w') as file:\n",
    "            file.write(modified_content)\n",
    "\n",
    "        print(f\"Multiple search and replace completed. Results written to '{output_file}'.\")\n",
    "    except FileNotFoundError:\n",
    "        print(f\"Error: File '{input_file}' not found.\")\n",
    "    except PermissionError:\n",
    "        print(f\"Error: Permission denied. Unable to read or write to the files.\")\n",
    "    except Exception as e:\n",
    "        print(f\"An error occurred: {str(e)}\")\n",
    "\n",
    "# Example usage:\n",
    "input_file = 'input.txt'\n",
    "output_file = 'output.txt'\n",
    "\n",
    "search_replace_multiple_in_file(input_file, output_file)"
   ]
  },
  {
   "cell_type": "markdown",
   "id": "462bb005",
   "metadata": {},
   "source": [
    "6.Write a python script that concatenates the contents of multiple text files into a single output file.Allow the user to specify the input files and the output file."
   ]
  },
  {
   "cell_type": "code",
   "execution_count": 9,
   "id": "2ead9237",
   "metadata": {},
   "outputs": [
    {
     "name": "stdout",
     "output_type": "stream",
     "text": [
      "Enter the path of an input file (leave empty to finish): \n",
      "No input files provided. Exiting.\n"
     ]
    }
   ],
   "source": [
    "def concatenate_files(input_files, output_file):\n",
    "    try:\n",
    "        with open(output_file, 'w') as output:\n",
    "            for input_file in input_files:\n",
    "                with open(input_file, 'r') as input:\n",
    "                    output.write(input.read())\n",
    "        print(\"Files concatenated successfully.\")\n",
    "    except FileNotFoundError:\n",
    "        print(\"Error: One or more input files not found.\")\n",
    "    except PermissionError:\n",
    "        print(\"Error: Permission denied. Unable to read or write to the files.\")\n",
    "    except Exception as e:\n",
    "        print(f\"An error occurred: {str(e)}\")\n",
    "\n",
    "if __name__ == \"__main__\":\n",
    "    input_files = []\n",
    "    \n",
    "    # Allow the user to specify input files\n",
    "    while True:\n",
    "        file_name = input(\"Enter the path of an input file (leave empty to finish): \")\n",
    "        if not file_name:\n",
    "            break\n",
    "        input_files.append(file_name)\n",
    "    \n",
    "    if not input_files:\n",
    "        print(\"No input files provided. Exiting.\")\n",
    "    else:\n",
    "        output_file = input(\"Enter the path of the output file: \")\n",
    "        concatenate_files(input_files, output_file)"
   ]
  },
  {
   "cell_type": "markdown",
   "id": "3c01e7f2",
   "metadata": {},
   "source": [
    "7.You are given a text file named input.txt containing a list of words, one word per line. Your task is to create a Python program that reads the content of the input.txt,processes the words and writes the result to an output file named output.txt.\n",
    " a. The program should perform the following operations.\n",
    " * Read the words from the input.txt.\n",
    " * For each word in the input file,calculate the length of the word and store it in a dictionary where the word is the key, and the length is the value.\n",
    " * Write the word-length dictionary to output.txt in the following format."
   ]
  },
  {
   "cell_type": "markdown",
   "id": "10aa2abe",
   "metadata": {},
   "source": [
    "Word1 : Length1\n",
    "Word2 : Length2\n",
    "..."
   ]
  },
  {
   "cell_type": "markdown",
   "id": "86e2aad9",
   "metadata": {},
   "source": [
    "* Close both input and output files properly.\n",
    "* Write python code to accomplish this task. Ensure proper error handling for file operations."
   ]
  },
  {
   "cell_type": "markdown",
   "id": "ab8ee449",
   "metadata": {},
   "source": [
    "Sample Input('input.txt')\n",
    "apple\n",
    "banana\n",
    "cherry\n",
    "date"
   ]
  },
  {
   "cell_type": "markdown",
   "id": "01245c1b",
   "metadata": {},
   "source": [
    "Sample Output('output.txt')\n",
    "apple : 5\n",
    "banana : 6\n",
    "cherry : 6\n",
    "date : 4\n",
    "    \n",
    "Note: Your code should work for any input file containing words and produce the corresponding word-length dictionary in the output file."
   ]
  },
  {
   "cell_type": "code",
   "execution_count": 8,
   "id": "28392e10",
   "metadata": {},
   "outputs": [
    {
     "name": "stdout",
     "output_type": "stream",
     "text": [
      "Word-length dictionary has been written to 'output.txt' successfully.\n"
     ]
    }
   ],
   "source": [
    "def process_word_lengths(input_file, output_file):\n",
    "    try:\n",
    "        # Open the input file for reading and the output file for writing\n",
    "        with open(input_file, 'r') as input_txt, open(output_file, 'w') as output_txt:\n",
    "            word_lengths = {}  # Initialize a dictionary to store word lengths\n",
    "\n",
    "            # Read each line (word) from the input file\n",
    "            for line in input_txt:\n",
    "                word = line.strip()  # Remove leading/trailing whitespaces\n",
    "                length = len(word)  # Calculate the length of the word\n",
    "                word_lengths[word] = length  # Store word and its length in the dictionary\n",
    "\n",
    "            # Write the word-length dictionary to the output file\n",
    "            for word, length in word_lengths.items():\n",
    "                output_txt.write(f\"{word} : {length}\\n\")\n",
    "\n",
    "        print(f\"Word-length dictionary has been written to '{output_file}' successfully.\")\n",
    "    except FileNotFoundError:\n",
    "        print(f\"Error: File '{input_file}' not found.\")\n",
    "    except PermissionError:\n",
    "        print(f\"Error: Permission denied. Unable to read or write to the file.\")\n",
    "    except Exception as e:\n",
    "        print(f\"An error occurred: {str(e)}\")\n",
    "\n",
    "# Example usage:\n",
    "input_file = 'input.txt'\n",
    "output_file = 'output.txt'\n",
    "\n",
    "process_word_lengths(input_file, output_file)\n"
   ]
  },
  {
   "cell_type": "markdown",
   "id": "719b8a82",
   "metadata": {},
   "source": [
    "8.Assume that you are developing a student gradebook system for a school. The system should allow teachers to input student grades for various subjects, store the data in files, provide students with the ability to view their grades.\n",
    "Design a python program that accomplishes the following tasks:\n",
    "* Teachers should be able to input grades for students in different subjects.\n",
    "* Store the student grade data in separate text files for each subject.\n",
    "* Students should be able to view their grades for each subject.\n",
    "* Implement error handling for file operations, such as file not found or permission issues."
   ]
  },
  {
   "cell_type": "code",
   "execution_count": 7,
   "id": "15ab2c37",
   "metadata": {},
   "outputs": [
    {
     "name": "stdout",
     "output_type": "stream",
     "text": [
      "\n",
      "Student Gradebook System\n",
      "1. Input Grades (Teachers)\n",
      "2. View Grades (Students)\n",
      "3. Quit\n",
      "Enter your choice: 78\n",
      "\n",
      "Student Gradebook System\n",
      "1. Input Grades (Teachers)\n",
      "2. View Grades (Students)\n",
      "3. Quit\n",
      "Enter your choice: 98\n",
      "\n",
      "Student Gradebook System\n",
      "1. Input Grades (Teachers)\n",
      "2. View Grades (Students)\n",
      "3. Quit\n",
      "Enter your choice: 64\n",
      "\n",
      "Student Gradebook System\n",
      "1. Input Grades (Teachers)\n",
      "2. View Grades (Students)\n",
      "3. Quit\n",
      "Enter your choice: 89\n",
      "\n",
      "Student Gradebook System\n",
      "1. Input Grades (Teachers)\n",
      "2. View Grades (Students)\n",
      "3. Quit\n",
      "Enter your choice: 98\n",
      "\n",
      "Student Gradebook System\n",
      "1. Input Grades (Teachers)\n",
      "2. View Grades (Students)\n",
      "3. Quit\n",
      "Enter your choice: 56\n",
      "\n",
      "Student Gradebook System\n",
      "1. Input Grades (Teachers)\n",
      "2. View Grades (Students)\n",
      "3. Quit\n",
      "Enter your choice: 77\n",
      "\n",
      "Student Gradebook System\n",
      "1. Input Grades (Teachers)\n",
      "2. View Grades (Students)\n",
      "3. Quit\n",
      "Enter your choice: 56\n",
      "\n",
      "Student Gradebook System\n",
      "1. Input Grades (Teachers)\n",
      "2. View Grades (Students)\n",
      "3. Quit\n",
      "Enter your choice: 80\n",
      "\n",
      "Student Gradebook System\n",
      "1. Input Grades (Teachers)\n",
      "2. View Grades (Students)\n",
      "3. Quit\n",
      "Enter your choice: 90\n",
      "\n",
      "Student Gradebook System\n",
      "1. Input Grades (Teachers)\n",
      "2. View Grades (Students)\n",
      "3. Quit\n",
      "Enter your choice: 89\n",
      "\n",
      "Student Gradebook System\n",
      "1. Input Grades (Teachers)\n",
      "2. View Grades (Students)\n",
      "3. Quit\n",
      "Enter your choice: 35\n",
      "\n",
      "Student Gradebook System\n",
      "1. Input Grades (Teachers)\n",
      "2. View Grades (Students)\n",
      "3. Quit\n",
      "Enter your choice: 32\n",
      "\n",
      "Student Gradebook System\n",
      "1. Input Grades (Teachers)\n",
      "2. View Grades (Students)\n",
      "3. Quit\n",
      "Enter your choice: 1\n",
      "Enter the subject: 1\n",
      "Enter the number of students: 2\n",
      "Enter student ID: 4565677\n",
      "Enter grade for 4565677: 23\n",
      "Enter student ID: 12\n",
      "Enter grade for 12: 24545\n",
      "Grades for 1 have been successfully recorded.\n",
      "\n",
      "Student Gradebook System\n",
      "1. Input Grades (Teachers)\n",
      "2. View Grades (Students)\n",
      "3. Quit\n",
      "Enter your choice: 3431\n",
      "\n",
      "Student Gradebook System\n",
      "1. Input Grades (Teachers)\n",
      "2. View Grades (Students)\n",
      "3. Quit\n",
      "Enter your choice: 144\n",
      "\n",
      "Student Gradebook System\n",
      "1. Input Grades (Teachers)\n",
      "2. View Grades (Students)\n",
      "3. Quit\n",
      "Enter your choice: 3341\n",
      "\n",
      "Student Gradebook System\n",
      "1. Input Grades (Teachers)\n",
      "2. View Grades (Students)\n",
      "3. Quit\n",
      "Enter your choice: 141\n",
      "\n",
      "Student Gradebook System\n",
      "1. Input Grades (Teachers)\n",
      "2. View Grades (Students)\n",
      "3. Quit\n",
      "Enter your choice: 3\n"
     ]
    }
   ],
   "source": [
    "import os\n",
    "\n",
    "def input_grades(subject, student_grades):\n",
    "    try:\n",
    "        file_name = f\"{subject}_grades.txt\"\n",
    "        with open(file_name, 'a') as file:\n",
    "            for student, grade in student_grades.items():\n",
    "                file.write(f\"{student}: {grade}\\n\")\n",
    "        print(f\"Grades for {subject} have been successfully recorded.\")\n",
    "    except PermissionError:\n",
    "        print(\"Error: Permission denied. Unable to write to the file.\")\n",
    "    except Exception as e:\n",
    "        print(f\"An error occurred: {str(e)}\")\n",
    "\n",
    "def view_grades(subject, student_id):\n",
    "    try:\n",
    "        file_name = f\"{subject}_grades.txt\"\n",
    "        with open(file_name, 'r') as file:\n",
    "            for line in file:\n",
    "                parts = line.strip().split(': ')\n",
    "                student = parts[0]\n",
    "                grade = parts[1]\n",
    "                if student == student_id:\n",
    "                    print(f\"Grade in {subject}: {grade}\")\n",
    "                    return\n",
    "            print(f\"No record found for {student_id} in {subject}.\")\n",
    "    except FileNotFoundError:\n",
    "        print(f\"Error: {subject} grades file not found.\")\n",
    "    except PermissionError:\n",
    "        print(f\"Error: Permission denied. Unable to read the file.\")\n",
    "    except Exception as e:\n",
    "        print(f\"An error occurred: {str(e)}\")\n",
    "\n",
    "def main():\n",
    "    while True:\n",
    "        print(\"\\nStudent Gradebook System\")\n",
    "        print(\"1. Input Grades (Teachers)\")\n",
    "        print(\"2. View Grades (Students)\")\n",
    "        print(\"3. Quit\")\n",
    "        \n",
    "        choice = input(\"Enter your choice: \")\n",
    "        \n",
    "        if choice == '1':\n",
    "            subject = input(\"Enter the subject: \")\n",
    "            num_students = int(input(\"Enter the number of students: \"))\n",
    "            student_grades = {}\n",
    "            for _ in range(num_students):\n",
    "                student_id = input(\"Enter student ID: \")\n",
    "                grade = input(f\"Enter grade for {student_id}: \")\n",
    "                student_grades[student_id] = grade\n",
    "            input_grades(subject, student_grades)\n",
    "            \n",
    "        elif choice == '2':\n",
    "            student_id = input(\"Enter your student ID: \")\n",
    "            subject = input(\"Enter the subject to view grades: \")\n",
    "            view_grades(subject, student_id)\n",
    "            \n",
    "        elif choice == '3':\n",
    "            break\n",
    "\n",
    "if __name__ == \"__main__\":\n",
    "    main()"
   ]
  },
  {
   "cell_type": "code",
   "execution_count": null,
   "id": "609467d6",
   "metadata": {},
   "outputs": [],
   "source": []
  }
 ],
 "metadata": {
  "kernelspec": {
   "display_name": "Python 3 (ipykernel)",
   "language": "python",
   "name": "python3"
  },
  "language_info": {
   "codemirror_mode": {
    "name": "ipython",
    "version": 3
   },
   "file_extension": ".py",
   "mimetype": "text/x-python",
   "name": "python",
   "nbconvert_exporter": "python",
   "pygments_lexer": "ipython3",
   "version": "3.11.4"
  }
 },
 "nbformat": 4,
 "nbformat_minor": 5
}
